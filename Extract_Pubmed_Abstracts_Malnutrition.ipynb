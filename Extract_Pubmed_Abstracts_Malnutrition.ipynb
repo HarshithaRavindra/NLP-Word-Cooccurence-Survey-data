{
  "cells": [
    {
      "cell_type": "markdown",
      "metadata": {
        "id": "FzXE-yLm1fHt"
      },
      "source": [
        "# Batch download Pubmed abstracts using the NCBI E-utilities and Python"
      ]
    },
    {
      "cell_type": "markdown",
      "metadata": {
        "id": "X1RV1qkV1fHx"
      },
      "source": [
        "Erick Lu\n",
        "\n",
        "March 14, 2020 - [GitHub Repo](https://github.com/erilu/pubmed-abstract-compiler)"
      ]
    },
    {
      "cell_type": "markdown",
      "metadata": {
        "id": "7Hv00doc1fHy"
      },
      "source": [
        "* [Introduction](#Introduction)\n",
        "* [How the NCBI E-utilities work](#How-the-NCBI-E-utilities-work)\n",
        "* [Using the E-utilities in Python](#Using-the-E-utilities-in-Python)\n",
        "* [Writing a loop to fetch all abstracts](#Writing-a-loop-to-fetch-all-abstracts)\n",
        "* [Conclusion](#Conclusion)"
      ]
    },
    {
      "cell_type": "markdown",
      "metadata": {
        "id": "8b_13Rbk1fHz"
      },
      "source": [
        "Here, I will show you how NCBI E-utilities can be used to search for and download Pubmed abstracts. I use Python in conjunction with the NCBI E-utilities to download all the abstracts corresponding to a given search term and simultaneously parse the information contained in each abstract into a data science-friendly format."
      ]
    },
    {
      "cell_type": "markdown",
      "metadata": {
        "id": "0cumpQHg1fHz"
      },
      "source": [
        "## Introduction"
      ]
    },
    {
      "cell_type": "markdown",
      "metadata": {
        "id": "Pem5RARC1fH0"
      },
      "source": [
        "Depending on what you search for in PubMed, you could be presented with thousands of abstracts that contain the keyword you used for your query (for example, try searching \"cancer\"). Finding the information you’re looking for can get a bit tedious when you have to manually click through each page of search results.\n",
        "\n",
        "Using the NCBI E-utilities (Entrez Programming Utilities, https://www.ncbi.nlm.nih.gov/books/NBK25499/), you can retrieve and download abstracts associated with a PubMed search without having to sift through the user interface. Even better, this tool doesn’t require any software–its completely URL based. You craft \"search\" and \"fetch\" commands as URLs and open them in your browser window to access the abstracts.\n",
        "\n",
        "We can automate the download process by programming a script in Python to construct the URLs, execute the \"search\" and \"fetch\" commands, and parse each part of the abstract (Authors, Journal, Date of publication, etc.) into a data file for downstream analysis. Text from each abstract can be analyzed to quickly extract numerical data or quantitative results.\n",
        "\n",
        "Below, I will give a brief tutorial about how the tools work, and the code needed to automate the process using Python.\n"
      ]
    },
    {
      "cell_type": "markdown",
      "metadata": {
        "id": "AiOphGkQ1fH0"
      },
      "source": [
        "## How the NCBI E-utilities work"
      ]
    },
    {
      "cell_type": "markdown",
      "metadata": {
        "id": "ZvA-FN3Z1fH1"
      },
      "source": [
        "The two main E-util functions you will use are `esearch` and `efetch`.\n",
        "\n",
        "First, `esearch` runs a keyword search command on the PubMed database and retrieves IDs for each of the abstracts corresponding to the search. The actual information associated with the abstracts does not show up, only the IDs. You’re also given a `query key` and `web environment ID`.\n",
        "\n",
        "Then, you input the `query key` and `web environment ID` into an `efetch` call, which will “fetch” all the abstracts for that specific `esearch` query.\n",
        "\n",
        "Let’s say I want to search pubmed for \"P2RY8\", which is a receptor on B lymphocytes that I worked on during my PhD.\n",
        "\n",
        "### Step 1. Craft your esearch URL\n",
        "\n",
        "Here is the URL required to execute a PubMed esearch for P2RY8:\n",
        "http://eutils.ncbi.nlm.nih.gov/entrez/eutils/esearch.fcgi?db=pubmed&term=P2RY8&retmax=50&usehistory=y\n",
        "\n",
        "This was crafted by putting the following parameters together:\n",
        "* `http://eutils.ncbi.nlm.nih.gov/entrez/eutils/esearch.fcgi?` is the backbone of the esearch function.\n",
        "* `db=pubmed` specifies that we will be searching the pubmed database.\n",
        "* `term=P2RY8` specifies what we will be searching pubmed for. Change this field to whatever you want to search for.\n",
        "* `retmax=50` specifies how many abstracts I want to return using the search.\n",
        "* `usehistory=y` will provide you with a QueryKey and WebEnv id that will let you fetch abstracts from this search.\n",
        "* The “&” signs are just used to separate the different conditions. Make sure to include it starting from after the `db=pubmed` argument.\n",
        "\n",
        "Copying and pasting the full URL into my web browser results in a webpage that looks like this (XML output):"
      ]
    },
    {
      "cell_type": "markdown",
      "metadata": {
        "id": "FWzf2sU31fH1"
      },
      "source": [
        "![esearch_web_result.png](images/esearch_web_result.png)"
      ]
    },
    {
      "cell_type": "markdown",
      "metadata": {
        "id": "CHA12NSP1fH2"
      },
      "source": [
        "### Step 2. Craft the efetch URL\n",
        "\n",
        "The next step is to execute an efetch command by constructing a new URL. Using the `WebEnv` and `QueryKey` information given in the above esearch result, I will type the following efetch command into my browser:\n",
        "\n",
        "https://eutils.ncbi.nlm.nih.gov/entrez/eutils/efetch.fcgi?db=pubmed&query_key=1&WebEnv=NCID_1_5757184_130.14.18.48_9001_1579844644_2015135327_0MetA0_S_MegaStore&retstart=0&retmax=50&retmode=text&rettype=abstract\n",
        "\n",
        "Note: If you’re trying this right now, your esearch will have given you a different webenv variable. Make sure to input YOUR webenv variable in the efetch URL for it to work!\n",
        "\n",
        "Here is an explanation for each aspect of the link I constructed above:\n",
        "* `http://eutils.ncbi.nlm.nih.gov/entrez/eutils/efetch.fcgi?` is the backbone for a efetch command. Notice that the only difference from this and an esearch command is the part after “/eutils/”.\n",
        "* `db=pubmed` specifies the database, again.\n",
        "* `query_key=1` specifies the number that was given in the “querykey” field in the esearch result.\n",
        "* `webenv=NCID_1_5757184_130.14.18.48_9001_1579844644_2015135327_0MetA0_S_MegaStore` specifies the ID that was given in the esearch result.\n",
        "* `retmode=text` specifies that I want the abstracts to be written out in print.\n",
        "* `rettype=abstract` specifies that I want abstracts shown, as opposed to other types of info that can be given from a PubMed search.\n",
        "\n",
        "After inputting this link, you should observe the following output as a plaintext webpage:\n"
      ]
    },
    {
      "cell_type": "markdown",
      "metadata": {
        "id": "Vf7ohNho1fH2"
      },
      "source": [
        "![efetch_web_result.png](images/efetch_web_result.png)"
      ]
    },
    {
      "cell_type": "markdown",
      "metadata": {
        "id": "vvjT4YP51fH2"
      },
      "source": [
        "Now, I can simply ctrl-F to sift through over three hundred abstracts. You can apply this simple two-step process whenever you’re tasked with searching through absurd amounts of Pubmed results.\n",
        "\n",
        "Below, I show you how to perform this process in Python."
      ]
    },
    {
      "cell_type": "markdown",
      "metadata": {
        "id": "Wgo0oNHq1fH2"
      },
      "source": [
        "## Using the E-utilities in Python"
      ]
    },
    {
      "cell_type": "markdown",
      "metadata": {
        "id": "_aKdsDA_1fH3"
      },
      "source": [
        "The packages we need include `csv` to write to a csv file, `re` in order to use regular expressions to extract information from `esearch` results, `urllib` to open and read urls, and `time` in order to sleep for a couple seconds between requests so we don't get blocked."
      ]
    },
    {
      "cell_type": "code",
      "execution_count": null,
      "metadata": {
        "id": "UsgAW1Mi1fH3"
      },
      "outputs": [],
      "source": [
        "import csv\n",
        "import re\n",
        "import urllib\n",
        "from time import sleep"
      ]
    },
    {
      "cell_type": "markdown",
      "metadata": {
        "id": "M0XSVsPC1fH4"
      },
      "source": [
        "Now, we need to specify our parameters for the `esearch` and `efetch` calls. We can store each of the settings in their own individual variables in order to make it easy to customize the calls in the future."
      ]
    },
    {
      "cell_type": "code",
      "execution_count": null,
      "metadata": {
        "id": "amhPPmh91fH5"
      },
      "outputs": [],
      "source": [
        "query = 'stunting_in_children'\n",
        "\n",
        "# common settings between esearch and efetch\n",
        "base_url = 'http://eutils.ncbi.nlm.nih.gov/entrez/eutils/'\n",
        "db = 'db=pubmed'\n",
        "\n",
        "# esearch specific settings\n",
        "search_eutil = 'esearch.fcgi?'\n",
        "search_term = '&term=' + query\n",
        "search_usehistory = '&usehistory=y'\n",
        "search_rettype = '&rettype=json'"
      ]
    },
    {
      "cell_type": "markdown",
      "metadata": {
        "id": "CVw7q6YH1fH5"
      },
      "source": [
        "We can construct the search url by simply combining together each of the variables into a long string:"
      ]
    },
    {
      "cell_type": "code",
      "execution_count": null,
      "metadata": {
        "colab": {
          "base_uri": "https://localhost:8080/"
        },
        "id": "hB_PeeR91fH6",
        "outputId": "efdd709e-cb32-4095-c8cb-670c1e9b7ee4"
      },
      "outputs": [
        {
          "output_type": "stream",
          "name": "stdout",
          "text": [
            "http://eutils.ncbi.nlm.nih.gov/entrez/eutils/esearch.fcgi?db=pubmed&term=stunting_in_children&usehistory=y&rettype=json\n"
          ]
        }
      ],
      "source": [
        "search_url = base_url+search_eutil+db+search_term+search_usehistory+search_rettype\n",
        "print(search_url)"
      ]
    },
    {
      "cell_type": "markdown",
      "metadata": {
        "id": "U2GHUX3b1fH7"
      },
      "source": [
        "Now that we have the full `esearch` url constructed, we can open the url using `urllib.request.urlopen()`:"
      ]
    },
    {
      "cell_type": "code",
      "execution_count": null,
      "metadata": {
        "id": "vzwgbs7M1fH7"
      },
      "outputs": [],
      "source": [
        "f = urllib.request.urlopen(search_url)\n",
        "search_data = f.read().decode('utf-8')"
      ]
    },
    {
      "cell_type": "code",
      "execution_count": null,
      "metadata": {
        "colab": {
          "base_uri": "https://localhost:8080/",
          "height": 88
        },
        "id": "dcw-M9eK1fH7",
        "outputId": "9af16623-674b-4f91-986a-530f270cd322"
      },
      "outputs": [
        {
          "output_type": "execute_result",
          "data": {
            "text/plain": [
              "'<?xml version=\"1.0\" encoding=\"UTF-8\" ?>\\n<!DOCTYPE eSearchResult PUBLIC \"-//NLM//DTD esearch 20060628//EN\" \"https://eutils.ncbi.nlm.nih.gov/eutils/dtd/20060628/esearch.dtd\">\\n<eSearchResult><Count>283</Count><RetMax>20</RetMax><RetStart>0</RetStart><QueryKey>1</QueryKey><WebEnv>MCID_65fa16f055d9c60a05340775</WebEnv><IdList>\\n<Id>38500124</Id>\\n<Id>38438205</Id>\\n<Id>38435096</Id>\\n<Id>38365615</Id>\\n<Id>38250089</Id>\\n<Id>38196291</Id>\\n<Id>38195435</Id>\\n<Id>38146474</Id>\\n<Id>38110773</Id>\\n<Id>38090175</Id>\\n<Id>38084158</Id>\\n<Id>38019780</Id>\\n<Id>38012887</Id>\\n<Id>38004215</Id>\\n<Id>37920185</Id>\\n<Id>37915383</Id>\\n<Id>37892302</Id>\\n<Id>37885003</Id>\\n<Id>37841737</Id>\\n<Id>37841199</Id>\\n</IdList><TranslationSet/><QueryTranslation>\"stunting in children\"[All Fields]</QueryTranslation></eSearchResult>\\n'"
            ],
            "application/vnd.google.colaboratory.intrinsic+json": {
              "type": "string"
            }
          },
          "metadata": {},
          "execution_count": 17
        }
      ],
      "source": [
        "search_data"
      ]
    },
    {
      "cell_type": "markdown",
      "metadata": {
        "id": "CkmXAGut1fH8"
      },
      "source": [
        "Above, you can compare the raw text output of the esearch result with the image of what it looks like in the browser. You can see that the same syntax is used for the `WebEnv` and `QueryKey` sections. We will also need the total number of abstracts corresponding to the query, if we want to be able to retrieve all the abstracts. We can extract these items from the output using the regexes below:"
      ]
    },
    {
      "cell_type": "code",
      "execution_count": null,
      "metadata": {
        "id": "oWERTOnA1fH8"
      },
      "outputs": [],
      "source": [
        "# obtain total abstract count\n",
        "total_abstract_count = int(re.findall(\"<Count>(\\d+?)</Count>\",search_data)[0])\n",
        "\n",
        "# obtain webenv and querykey settings for efetch command\n",
        "fetch_webenv = \"&WebEnv=\" + re.findall (\"<WebEnv>(\\S+)<\\/WebEnv>\", search_data)[0]\n",
        "fetch_querykey = \"&query_key=\" + re.findall(\"<QueryKey>(\\d+?)</QueryKey>\",search_data)[0]"
      ]
    },
    {
      "cell_type": "code",
      "execution_count": null,
      "metadata": {
        "colab": {
          "base_uri": "https://localhost:8080/"
        },
        "id": "C72kzwPv1fH8",
        "outputId": "0aa3bd35-1a63-4406-cefb-d812202ffc0a"
      },
      "outputs": [
        {
          "output_type": "execute_result",
          "data": {
            "text/plain": [
              "283"
            ]
          },
          "metadata": {},
          "execution_count": 19
        }
      ],
      "source": [
        "total_abstract_count"
      ]
    },
    {
      "cell_type": "markdown",
      "metadata": {
        "id": "9c-O-huP1fH8"
      },
      "source": [
        "We observe that there are 56 total abstracts that match the keyword \"P2RY8\"."
      ]
    },
    {
      "cell_type": "code",
      "execution_count": null,
      "metadata": {
        "colab": {
          "base_uri": "https://localhost:8080/",
          "height": 36
        },
        "id": "BasPOT771fH8",
        "outputId": "0ee1c373-ebfc-40ea-c54c-99b94f5c6b20"
      },
      "outputs": [
        {
          "output_type": "execute_result",
          "data": {
            "text/plain": [
              "'&WebEnv=MCID_65fa16f055d9c60a05340775'"
            ],
            "application/vnd.google.colaboratory.intrinsic+json": {
              "type": "string"
            }
          },
          "metadata": {},
          "execution_count": 20
        }
      ],
      "source": [
        "fetch_webenv"
      ]
    },
    {
      "cell_type": "code",
      "execution_count": null,
      "metadata": {
        "colab": {
          "base_uri": "https://localhost:8080/",
          "height": 36
        },
        "id": "feho3Fx51fH8",
        "outputId": "13bbe505-2ff4-4623-ac2e-0c3828d1d4ee"
      },
      "outputs": [
        {
          "output_type": "execute_result",
          "data": {
            "text/plain": [
              "'&query_key=1'"
            ],
            "application/vnd.google.colaboratory.intrinsic+json": {
              "type": "string"
            }
          },
          "metadata": {},
          "execution_count": 21
        }
      ],
      "source": [
        "fetch_querykey"
      ]
    },
    {
      "cell_type": "markdown",
      "metadata": {
        "id": "rHM25MA81fH9"
      },
      "source": [
        "Now that we have the `WebEnv` and `QueryKey`, we can run an `efetch` command to obtain the abstracts. In order to do so, we must assign values to each of the parameters in a similar manner as we did above for esearch."
      ]
    },
    {
      "cell_type": "code",
      "execution_count": null,
      "metadata": {
        "id": "gsWocuZT1fH9"
      },
      "outputs": [],
      "source": [
        "# other efetch settings\n",
        "fetch_eutil = 'efetch.fcgi?'\n",
        "retmax = 500\n",
        "retstart = 0\n",
        "fetch_retstart = \"&retstart=\" + str(retstart)\n",
        "fetch_retmax = \"&retmax=\" + str(retmax)\n",
        "fetch_retmode = \"&retmode=text\"\n",
        "fetch_rettype = \"&rettype=abstract\""
      ]
    },
    {
      "cell_type": "markdown",
      "metadata": {
        "id": "k1M9YZLV1fH9"
      },
      "source": [
        "The fully constructed efetch command using the above parameters, which should fetch 20 of the 56 total abstracts, is below:"
      ]
    },
    {
      "cell_type": "code",
      "execution_count": null,
      "metadata": {
        "colab": {
          "base_uri": "https://localhost:8080/"
        },
        "id": "tFKDujgk1fH9",
        "outputId": "f051cd91-620c-4d9f-85a3-19ee85b45f8f"
      },
      "outputs": [
        {
          "output_type": "stream",
          "name": "stdout",
          "text": [
            "http://eutils.ncbi.nlm.nih.gov/entrez/eutils/efetch.fcgi?db=pubmed&query_key=1&WebEnv=MCID_65fa16f055d9c60a05340775&retstart=0&retmax=500&retmode=text&rettype=abstract\n"
          ]
        }
      ],
      "source": [
        "fetch_url = base_url+fetch_eutil+db+fetch_querykey+fetch_webenv+fetch_retstart+fetch_retmax+fetch_retmode+fetch_rettype\n",
        "print(fetch_url)"
      ]
    },
    {
      "cell_type": "markdown",
      "metadata": {
        "id": "XJZEtMe_1fH9"
      },
      "source": [
        "Now, we can open the url the same way we did for esearch:"
      ]
    },
    {
      "cell_type": "code",
      "execution_count": null,
      "metadata": {
        "id": "YzkZ_4oK1fH9"
      },
      "outputs": [],
      "source": [
        "f = urllib.request.urlopen (fetch_url)\n",
        "fetch_data = f.read().decode('utf-8')"
      ]
    },
    {
      "cell_type": "code",
      "execution_count": null,
      "metadata": {
        "id": "r7RvlhpS1fH9"
      },
      "outputs": [],
      "source": [
        "fetch_data[1:3000]\n",
        "\n",
        "fetch_data_copy = fetch_data"
      ]
    },
    {
      "cell_type": "markdown",
      "metadata": {
        "id": "an2wPL1O1fH-"
      },
      "source": [
        "Examining the text output, we see that individual abstracts are separated by 3 new lines (```\\n\\n\\n```). We can therefore use split() to generate a list in which each item is a separate abstract."
      ]
    },
    {
      "cell_type": "code",
      "execution_count": null,
      "metadata": {
        "colab": {
          "base_uri": "https://localhost:8080/"
        },
        "id": "LZwcPDuT1fH-",
        "outputId": "4f611c42-fef6-421c-89c3-54e6b96a9a1c"
      },
      "outputs": [
        {
          "output_type": "execute_result",
          "data": {
            "text/plain": [
              "279"
            ]
          },
          "metadata": {},
          "execution_count": 25
        }
      ],
      "source": [
        "# splits the data into individual abstracts\n",
        "abstracts = fetch_data.split(\"\\n\\n\\n\")\n",
        "len(abstracts)"
      ]
    },
    {
      "cell_type": "markdown",
      "metadata": {
        "id": "5_3Fr3n41fH-"
      },
      "source": [
        "Because we had set `retmax = 20`, we obtained 20 abstracts. Let's take a closer look at an individual abstract:"
      ]
    },
    {
      "cell_type": "code",
      "execution_count": null,
      "metadata": {
        "id": "P4q3lVz31fH-",
        "outputId": "9c95162c-a2a0-4f26-b46f-0db5c900b3ba",
        "colab": {
          "base_uri": "https://localhost:8080/",
          "height": 105
        }
      },
      "outputs": [
        {
          "output_type": "execute_result",
          "data": {
            "text/plain": [
              "\"1. Int J Equity Health. 2024 Mar 18;23(1):60. doi: 10.1186/s12939-024-02111-9.\\n\\nLetter to the editor: will it be possible to achieve the global nutrition \\ntargets in Mexico by 2030?\\n\\nAncira-Moreno M(1)(2), Hernández-Cordero S(3)(4).\\n\\nAuthor information:\\n(1)Departamento de Salud, Universidad Iberoamericana, Ciudad de México, México.\\n(2)Observatorio Materno Infantil (OMI), Universidad Iberoamericana, Ciudad de \\nMéxico, México.\\n(3)Observatorio Materno Infantil (OMI), Universidad Iberoamericana, Ciudad de \\nMéxico, México. sonia.hernandez@ibero.mx.\\n(4)Instituto de Investigaciones para el Desarrollo con Equidad, Universidad \\nIberoamericana, Ciudad de México, México. sonia.hernandez@ibero.mx.\\n\\nIn May 2012, the 65th World Health Assembly (WHA) approved six global nutrition \\ntargets by 2025 aimed to reduce stunting in children under five by 40%, maintain \\nchildhood wasting below 5%, halt obesity, cut anemia in women by 50%, lower low \\nbirth weight prevalence by 30%, and increase exclusive breastfeeding (EBF) \\nwithin the first 6 months to 50%. These targets were extended to 2030, with all \\nof them remaining as originally planned, but the EBF one (increased to 70%), \\nwasting and overweight (both objectives set to eliminate them to negligible \\nconcern). Mexico is projected to achieve only one of the six nutrition targets \\n(wasting) by 2025, falling far short of the stunting, low birth weight, anemia, \\nand exclusive breastfeeding for the updated goals by 2030. This letter to the \\neditor describes the most recent prevalence of malnutrition among mothers and \\nchildren in Mexico. It discusses the challenges pregnant women and children \\nunder five years of age face exercising their right to good food, nutrition, and \\ndevelopment. The authors reflect on the urgent need to make structural changes \\nto achieve the global nutrition targets by 2030, highlighting the paramount \\nimportance of addressing the profound structural obstacles in Mexico and how \\nMexico's government must prioritize poverty reduction, reduce the marked \\ninequalities, enhance the quality of nutritional care and healthcare \\ninfrastructure, and implement climate-resilient agricultural practices to \\naddress this pressing issue.\\n\\n© 2024. The Author(s).\\n\\nDOI: 10.1186/s12939-024-02111-9\\nPMID: 38500124\""
            ],
            "application/vnd.google.colaboratory.intrinsic+json": {
              "type": "string"
            }
          },
          "metadata": {},
          "execution_count": 26
        }
      ],
      "source": [
        "# print out the first abstract\n",
        "abstracts[0]"
      ]
    },
    {
      "cell_type": "markdown",
      "metadata": {
        "id": "YzDiYmZv1fIJ"
      },
      "source": [
        "We observe that the sections of the abstract are separated by 2 new lines in a row, denoted by `\\n\\n`. We can again use `split()` to further categorize each section of the abstract."
      ]
    },
    {
      "cell_type": "code",
      "execution_count": null,
      "metadata": {
        "id": "Da9fOwsL1fIJ",
        "outputId": "fadacb76-8e66-450a-9e5c-e3c14896b4a6",
        "colab": {
          "base_uri": "https://localhost:8080/"
        }
      },
      "outputs": [
        {
          "output_type": "execute_result",
          "data": {
            "text/plain": [
              "['2. Saudi Med J. 2024 Mar;45(3):273-278. doi: 10.15537/smj.2024.45.3.20230774.',\n",
              " 'Factors related to stunting in children under 2 years old in the Papua, \\nIndonesia: Does the type of residence matter?',\n",
              " 'Ashar H(1), Laksono AD(1), Supadmi S(1), Kusumawardani HD(1), Yunitawati D(1), \\nPurwoko S(1), Khairunnisa M(1).',\n",
              " 'Author information:\\n(1)From the Public Health and Nutrition Research Center, National Research and \\nInnovation Agency Republic of Indonesia, Jakarta, Indonesia.',\n",
              " \"OBJECTIVES: To analyze factors related to stunting in Papua region.\\nMETHODS: Secondary data from the 2021 Indonesian National Nutrition Status \\nSurvey were used in this study. Samples of 2,937 Papuan children under the age \\nof two were gathered for the study. This study analyzed independent variables \\n(type of residence, mother's age, marriage, mother's education, employment, \\nwealth, child's age, gender, and early breastfeeding initiation (EBFI) with \\nstunting. The relationship was analyzed using logistic regression tests.\\nRESULTS: Stunting is more common among children in Papua's rural areas than in \\nurban (AOR 1.168, 95% CI, 1.128-1.209). Stunting is more common in children who \\nmother do not work than in mothers who do (AOR 1.174, 95% CI, 1.142- 1.207). \\nStunting is more common in children aged 12-23 months compared to children <12 \\nmonths (AOR 3.381, 95% CI, 3.291-3.474). Compared to girls, boys are more likely \\nto become stunted (AOR 1.348, 95% CI, 1,314-1,383). Children under the age of \\ntwo who do not experience EBFI are at higher risk than those who have (AOR \\n1.078, 95% CI, 1.050-1.106).\\nCONCLUSION: There are eight variables associated with stunting, namely \\nresidence, age of mother, mother's education, mother's occupation, economic \\nstatus, child's age, gender, and EBFI. Prioritization of stunting interventions \\nin Papua should be targeted at mothers who living in rural, having low \\neducation, and not doing early breastfeeding initiation.\",\n",
              " 'Copyright: © Saudi Medical Journal.',\n",
              " 'DOI: 10.15537/smj.2024.45.3.20230774\\nPMID: 38438205 [Indexed for MEDLINE]']"
            ]
          },
          "metadata": {},
          "execution_count": 27
        }
      ],
      "source": [
        "split_abstract = abstracts[1].split(\"\\n\\n\")\n",
        "split_abstract"
      ]
    },
    {
      "cell_type": "code",
      "execution_count": null,
      "metadata": {
        "id": "MguDY1uC1fIJ",
        "outputId": "cd69fa52-7a31-4dba-b9ee-37771d9547e6",
        "colab": {
          "base_uri": "https://localhost:8080/"
        }
      },
      "outputs": [
        {
          "output_type": "execute_result",
          "data": {
            "text/plain": [
              "7"
            ]
          },
          "metadata": {},
          "execution_count": 28
        }
      ],
      "source": [
        "len(split_abstract)"
      ]
    },
    {
      "cell_type": "markdown",
      "metadata": {
        "scrolled": true,
        "id": "pRMkRXP01fIJ"
      },
      "source": [
        "We see that the abstract has been split into 7 different items of information, corresponding to the journal name, date, authors, etc. Knowing this, we can construct a data frame in which each row represents an abstract, and each column represents a section of the abstract (journal, date, authors, etc.)."
      ]
    },
    {
      "cell_type": "markdown",
      "metadata": {
        "id": "LATYVDky1fIK"
      },
      "source": [
        "## Writing a loop to fetch all abstracts"
      ]
    },
    {
      "cell_type": "markdown",
      "metadata": {
        "id": "fjaZXvQx1fIK"
      },
      "source": [
        "There were 56 total abstracts corresponding to the keyword search P2RY8. Above, we have only processed the first 20. In order to obtain all of the abstracts, we can construct a loop that will call ```efetch``` while incrementing ```retstart``` by 20 each iteration, until all the abstracts have been downloaded and added to the table."
      ]
    },
    {
      "cell_type": "code",
      "execution_count": null,
      "metadata": {
        "colab": {
          "base_uri": "https://localhost:8080/"
        },
        "id": "f7A2tvbH1fIK",
        "outputId": "c3562908-50f7-409e-b0b9-e7ca2ef77831"
      },
      "outputs": [
        {
          "output_type": "stream",
          "name": "stdout",
          "text": [
            "this is the esearch command:\n",
            "http://eutils.ncbi.nlm.nih.gov/entrez/eutils/esearch.fcgi?db=pubmed&term=wasted_child&usehistory=y&rettype=json\n",
            "\n",
            "this is efetch run number 1\n",
            "http://eutils.ncbi.nlm.nih.gov/entrez/eutils/efetch.fcgi?db=pubmed&query_key=1&WebEnv=MCID_65fa1c836adb43022c0faad2&retstart=0&retmax=1000&retmode=text&rettype=abstract\n",
            "a total of 17 abstracts have been downloaded.\n",
            "\n"
          ]
        }
      ],
      "source": [
        "import csv\n",
        "import re\n",
        "import urllib\n",
        "from time import sleep\n",
        "\n",
        "query = \"wasted_child\"\n",
        "\n",
        "# common settings between esearch and efetch\n",
        "base_url = 'http://eutils.ncbi.nlm.nih.gov/entrez/eutils/'\n",
        "db = 'db=pubmed'\n",
        "\n",
        "# esearch settings\n",
        "search_eutil = 'esearch.fcgi?'\n",
        "search_term = '&term=' + query\n",
        "search_usehistory = '&usehistory=y'\n",
        "search_rettype = '&rettype=json'\n",
        "\n",
        "# call the esearch command for the query and read the web result\n",
        "search_url = base_url+search_eutil+db+search_term+search_usehistory+search_rettype\n",
        "print(\"this is the esearch command:\\n\" + search_url + \"\\n\")\n",
        "f = urllib.request.urlopen (search_url)\n",
        "search_data = f.read().decode('utf-8')\n",
        "\n",
        "# extract the total abstract count\n",
        "total_abstract_count = int(re.findall(\"<Count>(\\d+?)</Count>\",search_data)[0])\n",
        "\n",
        "# efetch settings\n",
        "fetch_eutil = 'efetch.fcgi?'\n",
        "retmax = 1000\n",
        "retstart = 0\n",
        "fetch_retmode = \"&retmode=text\"\n",
        "fetch_rettype = \"&rettype=abstract\"\n",
        "\n",
        "# obtain webenv and querykey settings from the esearch results\n",
        "fetch_webenv = \"&WebEnv=\" + re.findall (\"<WebEnv>(\\S+)<\\/WebEnv>\", search_data)[0]\n",
        "fetch_querykey = \"&query_key=\" + re.findall(\"<QueryKey>(\\d+?)</QueryKey>\",search_data)[0]\n",
        "\n",
        "# call efetch commands using a loop until all abstracts are obtained\n",
        "run = True\n",
        "all_abstracts = list()\n",
        "loop_counter = 1\n",
        "\n",
        "while run:\n",
        "    print(\"this is efetch run number \" + str(loop_counter))\n",
        "    loop_counter += 1\n",
        "    fetch_retstart = \"&retstart=\" + str(retstart)\n",
        "    fetch_retmax = \"&retmax=\" + str(retmax)\n",
        "    # create the efetch url\n",
        "    fetch_url = base_url+fetch_eutil+db+fetch_querykey+fetch_webenv+fetch_retstart+fetch_retmax+fetch_retmode+fetch_rettype\n",
        "    print(fetch_url)\n",
        "    # open the efetch url\n",
        "    f = urllib.request.urlopen (fetch_url)\n",
        "    fetch_data = f.read().decode('utf-8')\n",
        "    # split the data into individual abstracts\n",
        "    abstracts = fetch_data.split(\"\\n\\n\\n\")\n",
        "    # append to the list all_abstracts\n",
        "    all_abstracts = all_abstracts+abstracts\n",
        "    print(\"a total of \" + str(len(all_abstracts)) + \" abstracts have been downloaded.\\n\")\n",
        "    # wait 2 seconds so we don't get blocked\n",
        "    sleep(2)\n",
        "    # update retstart to download the next chunk of abstracts\n",
        "    retstart = retstart + retmax\n",
        "    if retstart > total_abstract_count:\n",
        "        run = False\n",
        "\n"
      ]
    },
    {
      "cell_type": "markdown",
      "metadata": {
        "id": "FsnA69Hi1fIK"
      },
      "source": [
        "The script above should display the esearch command, as well as each individual efetch command used to download the data. We observe that 3 efetch commands were called, and that a total of 56 abstracts were downloaded and stored in the list `all_abstracts`.\n",
        "\n",
        "You might be wondering, why did we need a loop in the first place? Couldn't we have just set `retmax` to 56 and just run `efetch` only once? For this particular example, yes. However, the maximum value for `retmax` is 500. For other keyword searches with over 500 abstracts, we must set retmax to 500 and loop until all the abstracts are downloaded."
      ]
    },
    {
      "cell_type": "code",
      "execution_count": null,
      "metadata": {
        "colab": {
          "base_uri": "https://localhost:8080/"
        },
        "id": "i7i1rWBd1fIK",
        "outputId": "eb9d354c-d557-4682-d13a-3c16a096367a"
      },
      "outputs": [
        {
          "output_type": "execute_result",
          "data": {
            "text/plain": [
              "17"
            ]
          },
          "metadata": {},
          "execution_count": 42
        }
      ],
      "source": [
        "len(all_abstracts)"
      ]
    },
    {
      "cell_type": "code",
      "source": [
        "all_abstracts"
      ],
      "metadata": {
        "colab": {
          "base_uri": "https://localhost:8080/"
        },
        "id": "AvAv3DIW6mjj",
        "outputId": "37d7dc68-140c-4e56-b9d5-c707d21efcc3"
      },
      "execution_count": null,
      "outputs": [
        {
          "output_type": "execute_result",
          "data": {
            "text/plain": [
              "[\"1. J Health Popul Nutr. 2024 Jan 2;43(1):1. doi: 10.1186/s41043-023-00479-y.\\n\\nMother-child dyads of overnutrition and undernutrition in sub-Saharan Africa.\\n\\nOkyere J(1)(2), Donkoh IE(3), Seidu AA(4)(5), Ahinkorah BO(6)(7), Aboagye RG(8), \\nYaya S(9)(10).\\n\\nAuthor information:\\n(1)Department of Population and Health, University of Cape Coast, Cape Coast, \\nGhana.\\n(2)Department of Nursing, College of Health Sciences, Kwame Nkrumah University \\nof Science and Technology, Kumasi, Ghana.\\n(3)Department of Medical Laboratory Science, University of Cape Coast, Cape \\nCoast, Ghana.\\n(4)Centre for Gender and Advocacy, Takoradi Technical University, Takoradi, \\nGhana.\\n(5)College of Public Health, Medical and Veterinary Sciences, James Cook \\nUniversity, Townsville, Australia.\\n(6)School of Clinical Medicine, University of New South Wales Sydney, Sydney, \\nAustralia.\\n(7)School of Public Health, Faculty of Health, University of Technology Sydney, \\nSydney, Australia.\\n(8)Department of Family and Community Health, Fred N. Binka School of Public \\nHealth, University of Health and Allied Sciences, Hohoe, Ghana.\\n(9)School of International Development and Global Studies, University of Ottawa, \\nOttawa, Canada. sanni.yaya@uOttawa.ca.\\n(10)The George Institute for Global Health, Imperial College London, London, UK. \\nsanni.yaya@uOttawa.ca.\\n\\nBACKGROUND: Malnutrition\\xa0remains one of the major public health concerns \\nglobally. To achieve the Sustainable Development Goal 2 which seeks to ensure \\nthat hunger and malnutrition are reduced by 2030, it is imperative to ascertain \\nthe factors influencing their occurrence. This study examined the prevalence and \\nfactors associated with mother-child dyads of overnutrition and undernutrition \\nin sub-Saharan Africa.\\nMETHODS: Demographic and Health Survey data from 25 sub-Saharan African \\ncountries were used for the study. The sample was made up of 125,280 \\nmother-child dyads. Descriptive analysis was performed to determine the \\nprevalence of overweight or obese mother (OWOBM) with a stunted child \\n(OWOBM-SC), OWOBM with an underweight child (OWOBM-UC), OWOBM with a wasted \\nchild (OWOBM-WC), and OWOBM with any form of child's undernutrition indicators \\n(OWOBM-SUWC). Multilevel regression models were developed\\xa0to examine the factors \\nassociated with these indicators. The results were presented using an adjusted \\nodds ratio (AOR) with their respective 95% confidence interval (CI).\\nRESULTS: Higher likelihood of OWOBM-SUWC was found among women aged 45-49 [AOR \\n2.20, 95% CI 1.70, 2.85], those with primary [AOR 1.32, 95% CI 1.21, 1.44] or \\nsecondary education [AOR 1.21, 95% CI 1.09, 1.35], and\\xa0divorced women [AOR 1.32, \\n95% CI 1.02, 1.73]. However, lower odds of OWOBM-SUWC were observed among women \\nwho were working [AOR 0.82, 95% CI 0.76, 0.89] and those breastfeeding [AOR \\n0.75, 95% CI 0.70, 0.82]. The odds of OWOBM-SUWC was lower among females \\ncompared to male children [AOR 0.85, 95% CI 0.80, 0.90]. Compared to children \\naged <1 year, children of\\xa0all other age groups were more likely to have \\nOWOBM-SUWC. Other child characteristics significantly associated with OWOBM-SUWC \\nwere low birth weight [AOR 1.50, 95% CI 1.32, 1.71], having diarrhea [AOR 1.13, \\n95% CI 1.04, 1.24], and higher birth order [AOR 1.37, 95% CI 1.13, 1.66]. \\nChildren whose mothers used unimproved toilet facilities [AOR 0.90, 95% CI 0.83, \\n0.98], those who lived in\\xa0rural\\xa0areas [AOR 0.79, 95% CI 0.71, 0.87], \\nand\\xa0children from the Central [AOR 0.55, 95% CI 0.46, 0.65], Eastern [AOR 0.44, \\n95% CI 0.38, 0.52] and Western [AOR 0.76, 95% CI 0.65, 0.89] sub-Saharan Africa \\nwere less likely to have OWOBM-SUWC.\\nCONCLUSION: Combination of child, maternal, and contextual factors could\\xa0explain \\nmother-child dyads of overnutrition and undernutrition in sub-Saharan Africa. \\nAddressing this situation requires multidimensional policies and interventions \\nthat empower women through education and economic engagement. The observed \\nsub-regional differences in policies and commitments related to addressing \\nmalnutrition suggest the need for comprehensive and coordinated efforts to \\nimplement and strengthen multisectoral comprehensive nutrition plans across \\nsub-Saharan Africa. Sharing best practices and lessons learned can help improve \\nthe effectiveness and comprehensiveness of nutrition interventions and \\ncontribute to reducing the prevalence of malnutrition.\\n\\n© 2023. The Author(s).\\n\\nDOI: 10.1186/s41043-023-00479-y\\nPMCID: PMC10759505\\nPMID: 38167549 [Indexed for MEDLINE]\\n\\nConflict of interest statement: The authors declare that they have no competing \\ninterests.\",\n",
              " \"2. J Health Popul Nutr. 2023 Jan 24;42(1):7. doi: 10.1186/s41043-023-00347-9.\\n\\nAssociation between maternal stature and household-level double burden of \\nmalnutrition: findings from a comprehensive analysis of Ethiopian Demographic \\nand Health Survey.\\n\\nSahiledengle B(1), Mwanri L(2), Agho KE(3)(4)(5).\\n\\nAuthor information:\\n(1)Department of Public Health, Madda Walabu University Goba Referral Hospital, \\nBale-Goba, Ethiopia. biniyam.sahiledengle@gmail.com.\\n(2)Centre for Public Health Research, Equity and Human Flourishing, Torrens \\nUniversity Australia, Adelaide Campus, Adelaide, SA, 5000, Australia.\\n(3)School of Health Sciences, Western Sydney University, Locked Bag 1797, \\nPenrith, NSW, 2751, Australia.\\n(4)School of Medicine, Translational Health Research Institute, Western Sydney \\nUniversity, Campbelltown Campus, Penrith, NSW, 2571, Australia.\\n(5)African Vision Research Institute, University of KwaZulu-Natal, Durban, 4041, \\nSouth Africa.\\n\\nBACKGROUND: Undernutrition among under-five children is one of the intractable \\npublic health problems in Ethiopia. More recently, Ethiopia faced a rising \\nproblem of the double burden of malnutrition-where a mother may be \\noverweight/obese, and a child is stated as having undernutrition (i.e., \\nstunting, wasting, or underweight) under the same roof. The burden of double \\nburden of malnutrition (DBM) and its association with maternal height are not \\nyet fully understood in low-income countries including Ethiopia. The current \\nanalysis sought: (a) to determine the prevalence of double burden of \\nmalnutrition (i.e., overweight/obese mother paired with her child having one \\nform of undernutrition) and (b) to examine the associations between the double \\nburden of malnutrition and maternal height among mother-child pairs in Ethiopia.\\nMETHODS: We used population-representative cross-sectional pooled data from four \\nrounds of the Ethiopia Demographic and Health Survey (EDHS), conducted between \\n2000 and 2016. In our analysis, we included children aged 0-59\\xa0months born to \\nmothers aged 15-49\\xa0years. A total of 33,454 mother-child pairs from four waves \\nof EDHS were included in this study. The burden of DBM was the primary outcome, \\nwhile the maternal stature was the exposure of interest. Anthropometric data \\nwere collected from children and their mothers. Height-for-age (HFA), \\nweight-for-height (WFH), and weight-for-age (WFA) z-scores\\u2009<\\u2009-\\u20092 SD were \\ncalculated and classified as stunted, wasting, and underweight, respectively. \\nThe association between the double burden of malnutrition and maternal stature \\nwas examined using hierarchical multilevel modeling.\\nRESULTS: Overall, the prevalence of the double burden of malnutrition was 1.52% \\n(95% CI 1.39-1.65). The prevalence of overweight/obese mothers and stunted \\nchildren was 1.31% (95% CI 1.19-1.44), for overweight/obese mothers and wasted \\nchildren, it was 0.23% (95% CI 0.18-0.28), and for overweight/obese mothers and \\nunderweight children, it was 0.58% (95% CI 0.51-0.66). Children whose mothers \\nhad tall stature (height\\u2009≥\\u2009155.0\\xa0cm) were more likely to be in the double burden \\nof malnutrition dyads than children whose mothers' height ranged from 145 to \\n155\\xa0cm (AOR: 1.37, 95% CI 1.04-1.80). Similarly, the odds of the double burden \\nof malnutrition was 2.98 times higher for children whose mothers had short \\nstature (height\\u2009<\\u2009145.0\\xa0cm) (AOR: 2.98, 95% CI 1.52-5.86) compared to those \\nwhose mothers had tall stature.\\nCONCLUSIONS: The overall prevalence of double burden of malnutrition among \\nmother-child pairs in Ethiopia was less than 2%. Mothers with short stature were \\nmore likely to suffer from the double burden of malnutrition. As a result, \\nnutrition interventions targeting households' level double burden of \\nmalnutrition should focus on mothers with short stature to address the \\nnutritional problem of mother and their children, which also has long-term and \\nintergenerational benefits.\\n\\n© 2023. The Author(s).\\n\\nDOI: 10.1186/s41043-023-00347-9\\nPMCID: PMC9872360\\nPMID: 36691083 [Indexed for MEDLINE]\\n\\nConflict of interest statement: The authors declare that they have no competing \\ninterests.\",\n",
              " \"3. Health Sci Rep. 2022 Oct 3;5(6):e860. doi: 10.1002/hsr2.860. eCollection 2022 \\nNov.\\n\\nSeverity of malnutrition among underweight children and family-related factors: \\nA cross-sectional analysis of data from the 2019 Ethiopian Demographic and \\nHealth Survey (EDHS).\\n\\nAlemayehu GM(1), Cherie KT(2), Chernet AG(3).\\n\\nAuthor information:\\n(1)Statistics Department, College of Natural and Computational Science Inijibara \\nUniversity Injibara Ethiopia.\\n(2)Statistics Department, College of Natural and Computational Sciences Debre \\nMarkos University Debre Markos Ethiopia.\\n(3)Statistics Department, College of Natural and Computational Sciences Wolkite \\nUniversity Wolkite Ethiopia.\\n\\nBACKGROUND AND AIMS: Malnutrition is one of the key factors in children's \\ninappropriate physical and mental development. It is a significant issue that \\nresults in the deaths of 3.5 million children under the age of 5 every year \\nworldwide. This study's primary goal was to pinpoint important family-related \\ncauses of underweight child malnutrition in Ethiopia.\\nMETHODS: The data were gathered from the Central Statistical Agency's 2019 \\nEthiopian Demographic and Health Survey. Data were examined using descriptive \\nstatistics and an ordinal logistic regression model after the sample was chosen \\nusing a stratified, two-stage cluster sampling approach.\\nRESULTS: Overall 6101 underweight children were involved in the study of which \\n5019 (82.27%) were severely underweight, 28 (0.46%) were moderately underweight \\nand 1054 (17.28%) were mild. The result showed that, birth order (p\\u2009<\\u20090.001), \\npartners education, (p\\u2009<\\u20090.001), partner occupation (p\\u2009<\\u20090.001) and type of \\nplace of residence (p\\u2009<\\u20090.001) were associated with child malnutrition and also \\nchild from poorest family (p\\u2009=\\u20090.01, adjusted odds ratio [AOR]: 0.745, CI: \\n-0.534, -0.056), children from workless partner (p\\u2009=\\u20090.169 AOR:CI: 1.855, \\n-0.262, 1.498), and female children (p\\u2009<\\u20090.001, AOR: 0.793, CI: -0.369,\\xa0 -0.093) \\nwere severely malnourished.\\nCONCLUSIONS: wealth index combined, sex, and region have statistically \\nsignificant effect on Severity of malnutrition. Female children were highly \\nmalnourished. Children in Amhara, Afar, and Tigray region were highly affected \\nby severe malnutrition relative to other regions. Hence, the government is \\nrecommended to impose action on child nutrition in the area as it is a public \\nhealth issue.\\n\\n© 2022 The Authors. Health Science Reports published by Wiley Periodicals LLC.\\n\\nDOI: 10.1002/hsr2.860\\nPMCID: PMC9528949\\nPMID: 36210870\\n\\nConflict of interest statement: The authors declare no conflict\\xa0of interest.\",\n",
              " \"4. Public Health Nutr. 2022 Nov;25(11):3158-3171. doi: 10.1017/S1368980022002075.\\n Epub 2022 Sep 16.\\n\\nDrivers and distribution of the household-level double burden of malnutrition in \\nBangladesh: analysis of mother-child dyads from a national household survey.\\n\\nSarker AR(1), Hossain Z(1), Morton A(2).\\n\\nAuthor information:\\n(1)Population Studies Division, Bangladesh Institute of Development Studies \\n(BIDS), Room 302, E-17, Sher e Bangla Nagar, Agargaon, Dhaka1207, Bangladesh.\\n(2)Department of Management Science, University of Strathclyde, Glasgow, UK.\\n\\nOBJECTIVE: The double burden of malnutrition (DBM) has become an emerging public \\nhealth issue in many low- and middle-income countries. This study aims to \\nprovide important evidence for the prevalence of different types of DBM at the \\nnational and subnational levels in Bangladesh.\\nDESIGN: The study utilised data from the latest Bangladesh Demographic and \\nHealth Survey (BDHS) 2017-2018. Multivariable logistic regression was performed \\nto identify the sociodemographic factors associated with DBM.\\nSETTING: Nationally representative cross-sectional survey.\\nPARTICIPANTS: 8697 mothers aged 15 to 49 years with <5 children.\\nRESULTS: The overall prevalence of the DBM was approximately 21 %, where the \\nprevalence of overweight mother (OWM) & stunted child/wasted child/underweight \\nchild (SC/WC/UWC) and underweight mother (UWM) & overweight child (OWC) was \\n13·35 % and 7·69 %, respectively, with a higher prevalence among urban \\nhouseholds (OWM & SC/WC/UWC = 14·22 %; UWM & OWC = 10·58 %) in Bangladesh. High \\ninequality was observed among UWM & OWC dyads, concentration index (CI) = \\n-0·2998, while low level of inequality of DBM were observed for OWM & SC (CI = \\n0·0153), OWM & WC (CI = 0·1165) and OWM & UWC (CI = 0·0135) dyads. We observed \\nthat the age and educational status of the mother, number of children, fathers' \\noccupation, size and wealth index of the household, and administrative division \\nwere significantly associated with all types of DBM.\\nCONCLUSIONS: Health policymakers, concerned authorities and various stakeholders \\nshould stress the prevalence of DBM issues and take necessary actions aimed at \\nidentifying and addressing the DBM in Bangladesh.\\n\\nDOI: 10.1017/S1368980022002075\\nPMCID: PMC9991823\\nPMID: 36111605 [Indexed for MEDLINE]\",\n",
              " '5. PLoS One. 2022 Jun 17;17(6):e0265788. doi: 10.1371/journal.pone.0265788. \\neCollection 2022.\\n\\nDoes maternal overnutrition carry child undernutrition in India?\\n\\nKumar M(1), Mohanty P(1).\\n\\nAuthor information:\\n(1)Department of Humanities and Social Sciences, Indian Institute of Technology \\nRoorkee, Roorkee, Uttarakhand, India.\\n\\nBACKGROUND AND OBJECTIVES: Studies in low-and middle-income countries where \\nnutrition transition is underway provides mixed evidence of double burden of \\nmaternal overnutrition and child undernutrition among mother-child pairs. \\nShifting dietary pattern and rapid increase in overweight/obesity among adults \\nwith persistent child undernutrition indicate that India is experiencing \\nnutrition transition and double burden of malnutrition. Hence, the study \\nexplores the presence of and the factors associated with mother-child dyads of \\nover- and undernutrition in India.\\nMETHODS AND MATERIALS: The study uses National Family Health Survey 2015-16 \\ndata. The analytic sample consists of 28,817 weighted mother-child pairs where \\nan overweight/obese mother is paired with an undernourished child. The \\nnutritional status of children is defined according to WHO 2006 child growth \\nstandards as underweight (i.e., low weight-for-age), stunting (i.e., low \\nheight-for-age) and wasting (i.e., low weight-for-height). Maternal \\noverweight/obesity (i.e., BMI ≥ 25 kg/m2) is defined using adult BMI criterion. \\nDescriptive, bivariate, and adjusted multivariable logistic regression analysis \\nare conducted.\\nRESULTS: Of the overweight/obese mothers, 21.3%, 26.5%, and 14% have \\nunderweight, stunted, and wasted children respectively. In adjusted models, \\nmaternal short stature (aOR: 2.94, 95% CI: 2.30-3.75), age of child (aOR: 3.29, \\n95% CI: 2.76-3.92), and poorest wealth status (aOR: 2.01, 95% CI: 1.59-2.54) are \\nsignificant predictors of overweight/obese mothers and stunted child pairs. \\nSimilarly, poor wealth status (aOR: 1.68, 95% CI:1.32-2.14), maternal stature \\n(aOR: 2.70, 95% CI: 2.08-3.52), and child aged 2-5 years (aOR: 1.77, 95% \\nCI:1.51-2.08) are also significantly associated with higher occurrence of \\noverweight/obese mother and-underweight child pairs.\\nCONCLUSION: Findings of the study are consistent with the phase of nutrition \\ntransition and double burden of malnutrition. The paper concludes with \\nsuggestions to improve the socioeconomic condition, more strategic nutrition \\nspecific investments and policy interventions to eliminate all forms of \\nmalnutrition for achieving SDGs.\\n\\nDOI: 10.1371/journal.pone.0265788\\nPMCID: PMC9205528\\nPMID: 35714070 [Indexed for MEDLINE]\\n\\nConflict of interest statement: The authors have declared that no competing \\ninterests exist.',\n",
              " \"6. World J Pediatr. 2022 Sep;18(9):613-623. doi: 10.1007/s12519-022-00559-9. Epub\\n 2022 Jun 6.\\n\\nEffect of early feeding practices and eating behaviors on body composition in \\nprimary school children.\\n\\nOmar OM(1), Massoud MN(2), Ibrahim AG(3), Khalaf NA(2).\\n\\nAuthor information:\\n(1)Department of Pediatrics, Faculty of Medicine, Alexandria University, \\nAlexandria, 21321, Egypt. O_magdy09@alexmed.edu.eg.\\n(2)Department of Pediatrics, Faculty of Medicine, Alexandria University, \\nAlexandria, 21321, Egypt.\\n(3)Department of Community Medicine and Public Health, Faculty of Medicine, \\nAlexandria University, Alexandria, Egypt.\\n\\nBACKGROUND: Understanding children's feeding practices and eating behaviors is \\nimportant to determine etiology of childhood obesity. This study aimed to \\nexplore the relationship between early feeding practices, eating behavior and \\nbody composition among primary school children.\\nMETHODS: The data were collected from 403 primary school children. They were \\nadministered structured questionnaire, including sociodemographic \\ncharacteristics, early feeding practices and Child's Eating Behavior \\nQuestionnaire. Anthropometric and blood pressure (BP) measurements were \\nperformed.\\nRESULTS: Children with obesity and overweight showed higher food approach \\nsubscales and lower food avoidance subscales compared to a healthy and \\nunderweight child. Children who were exclusively or predominantly breast fed \\nduring the first 6\\xa0months had the lowest scores for the food approach subscales, \\nfood responsiveness (FR) and emotional overeating (EOE) and had the highest \\nscores for the food avoidance subscales, satiety responsiveness (SR) and \\nemotional under eating (EUE). Children who were introduced solid food after \\n6\\xa0months showed lower scores for FR, enjoyment of food and EOE but scored \\nhighest for SR, slowness in eating (SE) and EUE. All anthropometric measurements \\nwere positively correlated with all food approach subscales and negatively with \\nSE, SR and food fussiness. All food approach subscales were positively \\ncorrelated with BP percentiles. All food avoidance subscales were negatively \\ncorrelated with both BP percentiles, except for EUE, which was negatively \\ncorrelated with diastolic BP percentile only. Age, SR, SE and FR were predictors \\nfor child body mass index.\\nCONCLUSION: Early feeding practices and eating behavior are considered as \\nprevention approaches for obesity.\\n\\n© 2022. The Author(s).\\n\\nDOI: 10.1007/s12519-022-00559-9\\nPMCID: PMC9169027\\nPMID: 35666456 [Indexed for MEDLINE]\\n\\nConflict of interest statement: No potential conflict of interest was reported \\nby the authors.\",\n",
              " '7. Front Med (Lausanne). 2022 Jan 20;8:798031. doi: 10.3389/fmed.2021.798031. \\neCollection 2021.\\n\\nTrends of the Global, Regional, and National Incidence of Measles, Vaccine \\nCoverage, and Risk Factors in 204 Countries From 1990 to 2019.\\n\\nWang R(1), Jing W(1), Liu M(1), Liu J(1)(2)(3).\\n\\nAuthor information:\\n(1)Department of Epidemiology and Biostatistics, School of Public Health, Peking \\nUniversity, Beijing, China.\\n(2)National Health Commission Key Laboratory of Reproductive Health, Peking \\nUniversity Health Science Center, Beijing, China.\\n(3)Institute for Global Health and Development, Peking University, Beijing, \\nChina.\\n\\nBACKGROUND: Measles is a highly contagious disease that has caused global \\nmorbidity and mortality. Though great progress has been made in measles \\nelimination, the resurgence of measles has been observed in recent years. As \\nextant literature were mainly confined to data of local area, we conducted a \\nsystematic analysis to explore the trends of the incidence of measles, coverage \\nrate, and the risk factors from 1990 to 2019 on global, regional, and national \\nlevels.\\nMETHODS: Data on cases of incidence, age standardized rate (ASR), vaccine \\ncoverage, and risk factors of measles were retrieved from the Global Burden of \\nDisease (GBD) Study 2019 database. Estimated averaged percentage change (EAPC) \\nof ASR was calculated to quantify the trends of measles incidence. Pearson \\ncorrelation was applied to assess the association of EAPC and measles-containing \\nvaccine coverage rate with socio-demographic index (SDI) in 2019, and the \\ncorrelation between ASR and measles-containing vaccine coverage rate.\\nRESULTS: Globally, there was a significant decrease in the number (84.18%) and \\nASR (6.13%, 95% CI: 5.41-6.84%) of measles incidence from 1990 to 2019. More \\nthan 80% of incidence cases were attributed to children under 5 and the \\nproportion was highest in low SDI region. Countries and territories with low \\nASRs are mostly clustered in North America, Southern Latin America, and Western \\nEurope, whereas those with high ASRs are mainly clustered in Africa, East Asia, \\nand South Asia. Lower SDI was associated with higher ASR and lower vaccine \\ncoverage rate. The more the SDI value was further away from 0.6, the smaller the \\nabsolute value did EAPC have. Child wasting accounted for the most \\nmeasles-related death cases, followed by child underweight, child stunting, and \\nvitamin A deficiency.\\nCONCLUSIONS: Measles eradication is feasible, but urgently demands political \\ncommitment, financial support, and public engagement. In the context of COVID-19 \\npandemic and the global resurgence of measles, surveillance systems and routine \\nimmunization programs should be improved, while vaccine hesitancy needs to be \\naddressed.\\n\\nCopyright © 2022 Wang, Jing, Liu and Liu.\\n\\nDOI: 10.3389/fmed.2021.798031\\nPMCID: PMC8810814\\nPMID: 35127753\\n\\nConflict of interest statement: The authors declare that the research was \\nconducted in the absence of any commercial or financial relationships that could \\nbe construed as a potential conflict of interest.',\n",
              " \"8. Crit Rev Food Sci Nutr. 2022;62(25):6961-6972. doi: \\n10.1080/10408398.2021.1908954. Epub 2021 Apr 10.\\n\\nFactors associated with the double burden of malnutrition at the household \\nlevel: A scoping review.\\n\\nGuevara-Romero E(1), Flórez-García V(1)(2), Egede LE(3), Yan A(3).\\n\\nAuthor information:\\n(1)Joseph J. Zilber School of Public Health, University of Wisconsin Milwaukee, \\nMilwaukee, Wisconsin, USA.\\n(2)Department of Public Health, Universidad del Norte, Barranquilla, Colombia.\\n(3)Center for Advancing Population Science, Department of Medicine, Division of \\nGeneral Internal Medicine, Medical College of Wisconsin, Milwaukee, Wisconsin, \\nUSA.\\n\\nThe double burden of malnutrition (DBM) at the household level has been defined \\nas the coexistence of underweight children and overweight mothers within the \\nsame household. The objective of the scoping review was to identify and \\nunderstand factors associated with DBM. We conducted the scoping review of \\npublished, peer-reviewed journal articles in two major databases used in public \\nhealth research (PubMed and Web of Science). A total of 70 articles met the \\neligibility criteria. The following factors were identified: mother's age, \\nheight, educational level, occupation, food intake, breastfeeding, family \\nincome, family size, and urbanization type. Overall, results were heterogeneous. \\nTwo scenarios have been identified. The first scenario is those obese women with \\na job, having a sufficient income, a high educational level, the ability to \\npurchase food, and live either in rural or urban areas. The second scenario is \\nobese women without a job, having an insufficient income, a low educational \\nlevel, without the ability to purchase food, and live either in rural or urban \\nareas. The DBM at the household level is a complex public health problem. There \\nis a need for target-specific interventions to address child undernutrition and \\nmaternal overweight/obesity simultaneously.\\n\\nDOI: 10.1080/10408398.2021.1908954\\nPMID: 33840313 [Indexed for MEDLINE]\",\n",
              " \"9. BMC Womens Health. 2021 Jan 30;21(1):42. doi: 10.1186/s12905-021-01183-x.\\n\\nWomen's empowerment and child growth faltering in Ethiopia: evidence from the \\nDemographic and Health Survey.\\n\\nMekonnen AG(1), Odo DB(2), Nigatu D(3), Sav A(4), Abagero KK(5).\\n\\nAuthor information:\\n(1)College of Health Science, Debre Berhan University, Debre Berhan, Ethiopia. \\nalemayehugonie19@gmail.com.\\n(2)College of Health Sciences, Arsi University, Asela, Ethiopia.\\n(3)School of Public Health, College of Medicine and Health Sciences, Bahir Dar \\nUniversity, Bahir Dar, Ethiopia.\\n(4)School of Public Health and Social Work, Faculty of Health, Queensland \\nUniversity of Technology, Brisbane, QLD, Australia.\\n(5)Non Communicable Disease Directorate, Armauer Hansen Research Institute, \\nAddis Ababa, Ethiopia.\\n\\nBACKGROUND: Despite numerous national and international efforts to alleviate \\nchild growth faltering, it remains a global health challenge. There is a growing \\nbody of literature that recognizes the importance of women's empowerment in a \\nwide range of public health topics, such as the utilization of maternal \\nhealthcare services, agricultural productivity, and child nutrition. However, in \\nEthiopia, the relationship between women's empowerment and child nutritional \\nstatus is not studied at the national level. This study aimed to determine the \\nassociation between women's empowerment and growth faltering in under-5 children \\nin Ethiopia.\\nMETHODS: The data source for this analysis is the 2016 Ethiopian Demographic and \\nHealth Survey (EDHS): a nationally representative household survey on \\nhealthcare. The EDHS employed a two-stage stratified cluster sampling technique. \\nWe computed standard women's empowerment indices, following the Survey-based \\nWomen's emPowERment index approach. A multilevel logistic regression model that \\naccounted for cluster-level random effects was used to estimate the association \\nbetween women's empowerment and child growth faltering (stunting, wasting and \\nunderweight).\\nRESULTS: Attitude to violence, social independence, and decision-making were the \\nthree domains of women's empowerment that were associated with child growth \\nfaltering. One standard deviation increase in each domain of empowerment was \\nassociated with a reduction in the odds of stunting: attitude towards violence \\n(AOR\\u2009=\\u20090.92; 95% CI 0.88-0.96; p\\u2009<\\u20090.001), social independence (AOR\\u2009=\\u20090.95; 95% \\nCI 0.89-0.99; p\\u2009=\\u20090.049), and decision-making (AOR\\u2009=\\u20090.93; 95% CI 0.87-0.99; \\np\\u2009=\\u20090.023). Similarly, each standard deviation increase in attitude towards \\nviolence (AOR\\u2009=\\u20090.93; 95% CI 0.89-0.98; p\\u2009=\\u20090.008), social independence \\n(AOR\\u2009=\\u20090.91; 95% CI 0.86-0.97; p\\u2009=\\u20090.002), and decision-making (AOR\\u2009=\\u20090.92; 95% \\nCI 0.86-0.99; p\\u2009=\\u20090.020) were associated with a decrease in the odds of having \\nunderweight child.\\nCONCLUSIONS: Ensuring women's empowerment both in the household and in the \\ncommunity could have the potential to decrease stunting and underweight in a \\nrapidly developing country like Ethiopia. Policymakers and health professionals \\nneed to consider women's empowerment in this unique context to improve \\nnutritional outcomes for children and alleviate growth faltering.\\n\\nDOI: 10.1186/s12905-021-01183-x\\nPMCID: PMC7847175\\nPMID: 33516229 [Indexed for MEDLINE]\\n\\nConflict of interest statement: The authors declared that they have no competing \\ninterests.\",\n",
              " '10. PLoS One. 2020 Nov 13;15(11):e0241720. doi: 10.1371/journal.pone.0241720. \\neCollection 2020.\\n\\nIndividual and community level factors associated with anemia among children \\n6-59 months of age in Ethiopia: A further analysis of 2016 Ethiopia demographic \\nand health survey.\\n\\nGebremeskel MG(1), Mulugeta A(2), Bekele A(3), Lemma L(4), Gebremichael M(1), \\nGebremedhin H(1), Etsay B(1), Tsegay T(5), Haileslasie Y(5), Kinfe Y(6), \\nGebremeskel F(1), Mezgebo L(1), Shushay S(7).\\n\\nAuthor information:\\n(1)Department of Public Health, College of Medicine and Health Sciences, Adigrat \\nUniversity, Tigray, Ethiopia.\\n(2)Department of Nutrition, School of Public Health, College of Health Sciences, \\nMekelle University, Tigray, Ethiopia.\\n(3)Department of Biostatistics, School of Public health, College of Health \\nSciences, Mekelle University, Tigray, Ethiopia.\\n(4)Department of Public Health, College of Medicine and Health Sciences, Wachamo \\nUniversity, Sothern Nations Nationalities and Peoples of Ethiopia, Tigray, \\nEthiopia.\\n(5)Department of Nursing, College of Medicine and Health Sciences, Adigrat \\nUniversity, Tigray, Ethiopia.\\n(6)Department of Public Health, College of Medicine and Health Sciences, Aksum \\nUniversity, Tigray, Ethiopia.\\n(7)Department of Midwifery, College of Medicine and Health Sciences, Adigrat \\nUniversity, Tigray, Ethiopia.\\n\\nBACKGROUND: Anemia is a global public health problem; but its burden is \\ndisproportionately borne among children in the African Regions. The 2016 \\nEthiopia Demographic and Health Survey report showed that the prevalence of \\nanemia among children 6-59 months of age was 57%; far exceeding the national \\ntarget of 25% set for 2015. Although studies have been conducted in Ethiopia, \\nmultilevel analysis has rarely been used to identify factors associated with \\nanemia among children. Therefore, this study aimed to identify individual and \\ncommunity-level factors associated with anemia among children 6-59 months of age \\nby fitting a multilevel logistic regression model.\\nMETHODS: The data was obtained from the 2016 Ethiopia Demographic and Health \\nSurvey, conducted from January to June 2016, and downloaded from the website \\nhttp://www.DHSprogram.com. The sample was taken using two-stage stratified \\nsampling. In stage one, 645 Enumeration Areas and in stage two 28 households per \\nEnumeration Area were selected. A sample of 7790 children 6-59 months of age was \\nincluded. Data were analyzed using STATA version 14. A multilevel logistic \\nregression model was fitted and an adjusted odds ratio with a 95% confidence \\ninterval was obtained.\\nRESULT: From the individual-level factors, anemia was associated most strongly \\nwith child age, wealth index, maternal anemia and child stunting followed by \\nchild underweight, child fever and birth order whereas from the community-level, \\nthe strongest odds of anemia occurred among children from Somali, Harari, Dire \\nDawa and Afar region followed by Oromia and Addis Ababa. Low community-poverty \\nis a protective factor for anemia. The odds of anemia were 0.81 (95% CI: 0.66, \\n0.99) times lower for children who were living in communities of lower poverty \\nstatus than children who were living in communities of higher poverty status. \\nChildren from Somali and Dire Dawa had 3.38 (95% CI: 3.25, 5.07) and 2.22 (95% \\nCI: 1.42, 3.48) times higher odds of anemia, respectively than children from the \\nTigray region.\\nCONCLUSIONS: This study shows that anemia among children 6-59 months of age is \\naffected both by the individual and community level factors. It is better to \\nstrengthen the strategies of early detection and management of stunted and \\nunderweight children. At the same time, interventions should be strengthened to \\naddress maternal anemia, child fever and poverty, specifically targeting regions \\nidentified to have a high risk of anemia.\\n\\nDOI: 10.1371/journal.pone.0241720\\nPMCID: PMC7665792\\nPMID: 33186370 [Indexed for MEDLINE]\\n\\nConflict of interest statement: The authors have declared that no competing \\ninterests exist.',\n",
              " '11. Eur J Clin Nutr. 2021 Feb;75(2):385-391. doi: 10.1038/s41430-020-00726-z.\\nEpub  2020 Sep 2.\\n\\nPatterns and determinants of the double burden of malnutrition at the household \\nlevel in South and Southeast Asia.\\n\\nBiswas T(1)(2), Townsend N(3), Magalhaes RJS(4)(5), Hasan M(6)(7), Mamun \\nA(6)(7).\\n\\nAuthor information:\\n(1)Institute for Social Science Research, University of Queensland, 80 Meiers \\nRoad, Indooroopilly, QLD, 4068, Australia. t.biswas@uqconnect.edu.au.\\n(2)ARC Centre of Excellence for Children and Families over the Life Course, The \\nUniversity of Queensland, Indooroopilly, QLD, Australia. \\nt.biswas@uqconnect.edu.au.\\n(3)Department for Health, University of Bath, Bath, BA2 7AY, UK.\\n(4)UQ Spatial Epidemiology Laboratory, School of Veterinary Science, The \\nUniversity of Queensland, Gatton, QLD, Australia.\\n(5)Children\\'s Health and Environment Program, Child Health Research Centre, The \\nUniversity of Queensland, Brisbane, QLD, Australia.\\n(6)Institute for Social Science Research, University of Queensland, 80 Meiers \\nRoad, Indooroopilly, QLD, 4068, Australia.\\n(7)ARC Centre of Excellence for Children and Families over the Life Course, The \\nUniversity of Queensland, Indooroopilly, QLD, Australia.\\n\\nOBJECTIVES: Many developing countries currently face a double burden of \\nmalnutrition (DBM) at the household level, defined by the World Health \\nOrganization, as when a mother may be overweight or anemic, and a child or \\ngrandparent is underweight, in the same household. For the present study, we \\ndefined it as the coexistence of overweight or obesity in the mother, and at \\nleast one child under the age of 5 undernourished, within the same household. \\nAlthough underweight has long been considered a major issue in South and \\nSoutheast Asia, overweight and obesity have also been identified as a growing \\nproblem. The main aim of this study was to assess the DBM at the household level \\nand its major determinants in South and Southeast Asia.\\nMETHODS: We used population-representative cross-sectional data from the \\nDemographic and Health Survey, conducted between 2007 and 2017, for eight South \\nand Southeast Asian countries: Bangladesh, India, Nepal, Pakistan, Myanmar, \\nTimor, Maldives, and Cambodia. Multivariate logistic regression was performed to \\nidentify the sociodemographic factors associated with DBM.\\nRESULTS: A total of 798,961 households were included in this study. The pooled \\nprevalence of overweight or obesity for the mother and stunted child was 10.0% \\n(95% CI: 8.0.0-12.0), for OBM and wasted child, it was 7.0% (95% confidence \\ninterval (CI): 6.0-8.0), and for overweight or obese mother (OBM) and \\nunderweight child, it was 7.0% (95% CI: 6.0-8.0). The prevalence of any of these \\nDBM coexistences was 12.0% (95% CI: 10.0-13.0) in all households. Statistically \\nsignificant positive associations (p\\u2009<\\u20090.05) were found for each of these \\ncoexistences, and a higher age of the mother, mothers with a lower education, \\nthe richest household quintile, and households with more than four members.\\nCONCLUSION: It is imperative that \"double duty\" action policies are developed \\nthat tackle the DBM, rather than targeting undernutrition or overnutrition \\nseparately. The findings from this study suggest that the promotion of education \\nfor women may aid in tackling the double burden on a household level.\\n\\nDOI: 10.1038/s41430-020-00726-z\\nPMID: 32879448 [Indexed for MEDLINE]',\n",
              " \"12. J Nutr Sci. 2020 Jan 24;9:e5. doi: 10.1017/jns.2019.39.\\n\\nThe double burden of overnutrition and undernutrition in mother-child dyads in \\nKenya: demographic and health survey data, 2014.\\n\\nMasibo PK(1)(2), Humwa F(1), Macharia TN(1).\\n\\nAuthor information:\\n(1)Global Programs for Research & Training, Kenya, Affiliate of the University \\nof California San Francisco (UCSF), San Francisco, CA, USA.\\n(2)Department of Nutrition, Moi University, School of Public Health, Nairobi, \\nKenya.\\n\\nThe double burden of overnutrition and undernutrition is rapidly becoming a \\npublic health concern in low- and middle-income countries. We explored the \\noccurrence of mother-child pairs of over- and undernutrition and the \\ncontributing factors using the 2014 Kenya Demographic and Health Survey data. A \\nweighted sample of 7830 mother-child pairs was analysed. The children's \\nnutritional status was determined using the WHO 2006 reference standards while \\nmaternal nutritional status was determined with BMI. Descriptive statistics, \\nbivariate and multivariate logistic regression analysis were conducted. The \\nproportion of overweight and obese mothers was 26\\xa0% (18·8\\xa0% overweight and 7·2\\xa0% \\nobese). The prevalence of child stunting, underweight and wasting was 26·3, 12·8 \\nand 5·1\\xa0%, respectively. Out of the overweight/obese mothers (weighted n 2034), \\n20\\xa0% had stunted children, 5·4\\xa0% underweight children and 3·1\\xa0% wasted children. \\nOverweight/obese mother-stunted child pairs and overweight/obese \\nmother-underweight child pairs were less likely to occur in the rural areas \\n(adjusted OR (aOR) = 0·43; P < 0·01) in comparison with those residing in the \\nurban areas (aOR = 0·54; P = 0·01). Children aged more than 6 months were more \\nlikely to be in the double burden dyads compared with children below 6 months of \\nage (P < 0·01). The double burden mother-child dyads were more likely to be \\nobserved in wealthier households. Mother-child double burden is a notable public \\nhealth problem in Kenya. Household wealth and urban residence are determinants \\nof the double burden. There is need for target-specific interventions to \\nsimultaneously address child undernutrition and maternal overweight/obesity.\\n\\n© The Author(s) 2020.\\n\\nDOI: 10.1017/jns.2019.39\\nPMCID: PMC6984123\\nPMID: 32042413 [Indexed for MEDLINE]\",\n",
              " '13. PLoS One. 2019 Oct 9;14(10):e0223001. doi: 10.1371/journal.pone.0223001. \\neCollection 2019.\\n\\nNutritional status, cognitive achievement, and educational attainment of \\nchildren aged 8-11 in rural South India.\\n\\nAcharya Y(1), Luke N(2), Haro MF(2), Rose W(3), Russell PSS(4), Oommen AM(5), \\nMinz S(5).\\n\\nAuthor information:\\n(1)Department of Health Policy and Administration, The Pennsylvania State \\nUniversity, Pennsylvania, United States of America.\\n(2)Department of Sociology and Criminology, The Pennsylvania State University, \\nPennsylvania, United States of America.\\n(3)Department of Pediatrics, Christian Medical College, Vellore, India.\\n(4)Department of Psychiatry, Christian Medical College, Vellore, India.\\n(5)Department of Community Health, Christian Medical College, Vellore, India.\\n\\nBACKGROUND: Malnutrition among children is one of the most pressing health \\nconcerns middle- and low-income countries face today, particularly those in \\nSub-Saharan Africa and South Asia. Early-life malnutrition has been shown to \\naffect long-term health and income. One hypothesized channel linking early-life \\nmalnutrition and long-term outcomes is cognitive development. However, there is \\nlimited empirical evidence on the relationship between nutritional status and \\ncognitive achievement in middle childhood.\\nSTUDY DESIGN: As part of the South India Community Health Study (SICHS), we \\ncollected educational attainment and anthropometric data from 1,194 children in \\nrural Vellore district of Tamil Nadu, India, and assessed their math and reading \\nskills. We analyzed the relationship between continuous and binary \\nanthropometric measures of nutritional status and three measures of cognitive \\nachievement (reading, math, and grade level), adjusting for potential \\nconfounders, using a regression framework.\\nRESULTS: Lower height-for-age and weight-for-age and their corresponding binary \\nmeasures (stunting, underweight) were associated with lower reading scores, \\nlower math scores, and lower grade level, with the exception of the association \\nbetween weight-for-age and reading, which was marginally significant. A stunted \\nchild had one-third of a grade disadvantage compared to a non-stunted \\ncounterpart, whereas an underweight child had one-fourth of a grade disadvantage \\ncompared to a non-underweight counterpart. Lower BMI-for-age was associated with \\ngrade level and marginally associated with lower math scores, and its binary \\nmeasure (thinness) was marginally associated with lower math scores.\\nCONCLUSIONS: Acute and chronic malnutrition in middle childhood were negatively \\nassociated with math scores, reading scores, and educational attainment. Our \\nstudy provides new evidence that cognitive achievement during middle childhood \\ncould be an important mechanism underlying the association between early-life \\nmalnutrition and long-term wellbeing.\\n\\nDOI: 10.1371/journal.pone.0223001\\nPMCID: PMC6784908\\nPMID: 31596845 [Indexed for MEDLINE]\\n\\nConflict of interest statement: The authors have declared that no competing \\ninterests exist.',\n",
              " \"14. Public Health Nutr. 2019 Jun;22(8):1425-1432. doi: 10.1017/S1368980018003580.\\n Epub 2019 Jan 7.\\n\\nPrevalence and sociodemographic determinants of household-level double burden of \\nmalnutrition in Bangladesh.\\n\\nDas S(1), Fahim SM(1), Islam MS(2), Biswas T(3), Mahfuz M(1), Ahmed T(1).\\n\\nAuthor information:\\n(1)1Nutrition and Clinical Services Division,International Centre for Diarrhoeal \\nDisease Research,Bangladesh (icddr,b),68 Shaheed Tajudddin Ahmed \\nSarani,Mohakhali,Dhaka 1212,Bangladesh.\\n(2)2Department of Statistics,University of Rajshahi,Rajshahi,Bangladesh.\\n(3)3Institute for Social Science Research,University of \\nQueensland,Brisbane,Australia.\\n\\nOBJECTIVE: To investigate the prevalence and sociodemographic determinants of \\nhousehold-level mother-child double burden (MCDB) of malnutrition in Bangladesh.\\nDESIGN: The analysis was done using Bangladesh Demographic and Health Survey \\n2014 data. Multivariable logistic regression identified the sociodemographic \\nfactors associated with double-burden households.\\nSETTING: Nationally representative cross-sectional survey.ParticipantsA total of \\n5951 households were included in the analysis.\\nRESULTS: A coexistence of overweight or obese mother and underweight or stunted \\nor wasted child (OWOBM/USWC) was found in 6·3 % households. The prevalence of \\noverweight or obese mother and underweight child (OWOBM/UWC) was 3·8 %, of \\noverweight or obese mother and stunted child (OWOBM/STC) was 4·7 %, and of \\noverweight or obese mother and wasted child (OWOBM/WSC) was 1·7 %. Mother's age \\n21-25 years at first birth, middle wealth index group, having two or three \\nchildren and having four or more children showed statistically significant \\n(P&lt;0·05) associations with OWOBM/UWC. Households with mother's age 21-25 \\nyears at first birth, middle wealth index group, no exposure to information \\nmedia, having two or three children and having four or more children had higher \\nodds of OWOBM/STC and OWOBM/USWC which were statistically significant \\n(P&lt;0·05). Delivery of child through caesarean section was significantly \\nassociated with OWOBM/USWC (P&lt;0·05).\\nCONCLUSIONS: Although the prevalence of MCDB of malnutrition in Bangladesh is \\nlow, prevention programmes must consider the nutrition concerns of the entire \\nhousehold to prevent future risks. Such programmes also need to be tagged with \\nfamily planning and increasing awareness through social and behaviour change \\ncounselling and exposure to information media.\\n\\nDOI: 10.1017/S1368980018003580\\nPMCID: PMC10260912\\nPMID: 30612592 [Indexed for MEDLINE]\",\n",
              " \"15. Lancet Glob Health. 2018 Apr;6(4):e447-e459. doi:\\n10.1016/S2214-109X(18)30025-1.  Epub 2018 Feb 14.\\n\\nGeospatial inequalities and determinants of nutritional status among women and \\nchildren in Afghanistan: an observational study.\\n\\nAkseer N(1), Bhatti Z(2), Mashal T(3), Soofi S(2), Moineddin R(4), Black RE(5), \\nBhutta ZA(6).\\n\\nAuthor information:\\n(1)Centre for Global Child Health, Hospital for Sick Children, Toronto, ON, \\nCanada; Dalla Lana School of Public Health, University of Toronto, Toronto, ON, \\nCanada.\\n(2)Center of Excellence in Women and Child Health, the Aga Khan University, \\nKarachi, Pakistan.\\n(3)Former Afghanistan Ministry of Public Health, Kabul, Afghanistan.\\n(4)Department of Family and Community Medicine, University of Toronto, Toronto, \\nON, Canada.\\n(5)Department of International Health, Johns Hopkins Bloomberg School of Public \\nHealth, Baltimore, MD, USA.\\n(6)Centre for Global Child Health, Hospital for Sick Children, Toronto, ON, \\nCanada; Dalla Lana School of Public Health, University of Toronto, Toronto, ON, \\nCanada; Center of Excellence in Women and Child Health, the Aga Khan University, \\nKarachi, Pakistan; Department of International Health, Johns Hopkins Bloomberg \\nSchool of Public Health, Baltimore, MD, USA. Electronic address: \\nzulfiqar.bhutta@aku.edu.\\n\\nErratum in\\n    Lancet Glob Health. 2018 May;6(5):e498.\\n\\nComment in\\n    Lancet Glob Health. 2018 Apr;6(4):e365-e366.\\n\\nBACKGROUND: Undernutrition is a pervasive condition in Afghanistan, and \\nprevalence is among the highest in the world. We aimed to comprehensively assess \\ndistrict-level geographical disparities and determinants of nutritional status \\n(stunting, wasting, or underweight) among women and children in Afghanistan.\\nMETHODS: The study used individualised data from the recent Afghanistan National \\nNutrition Survey 2013. Outcome variables were based on growth and weight \\nanthropometry data, which we analysed linearly as Z scores and as dichotomous \\ncategories. We analysed data from a total of almost 14\\u2008000 index mother-child \\npairs using Bayesian spatial and generalised least squares regression models \\naccounting for the complex survey design.\\nFINDINGS: We noted that childhood stunting, underweight, and combined stunting \\nand wasting were consistently highest in districts in Farah, Nangarhar, \\nNuristan, Kunar, Paktia, and Badakhshan provinces. District prevalence ranged \\nfrom 4% to 84% for childhood stunting and 5% to 66% for underweight. Child \\nwasting exceeded 20% in central and high-conflict regions that bordered Pakistan \\nincluding east, southeast, and south. Among mothers, dual burden of underweight \\nand overweight or obesity existed in districts of north, northeast, central, and \\ncentral highlands (prevalence of 15-20%). Linear growth and weight of children \\nwere independently associated with household wealth, maternal literacy, maternal \\nanthropometry, child age, food security, geography, and improved hygiene and \\nsanitation conditions. The mother's body-mass index was determined by many of \\nthe same factors, in addition to ethnolinguistic status and parity. Younger \\nmothers (<20 years old) were more underweight and shorter than older mothers \\n(aged 20-49 years).\\nINTERPRETATION: Afghanistan's rapidly changing political, socioeconomic, and \\ninsecurity landscape has both direct and indirect implications on population \\nnutrition. Novel evidence from our study can be used to understand these \\nmultifactorial determinants and to identify granular disparities for local level \\ntracking, planning, and implementation of nutritional interventions.\\nFUNDING: None.\\n\\nCopyright © 2018 The Author(s). Published by Elsevier Ltd. This is an Open \\nAccess article under the CC BY-NC-ND 4.0 license. Published by Elsevier Ltd.. \\nAll rights reserved.\\n\\nDOI: 10.1016/S2214-109X(18)30025-1\\nPMID: 29454554 [Indexed for MEDLINE]\",\n",
              " \"16. J Nutr Metab. 2017;2017:6368746. doi: 10.1155/2017/6368746. Epub 2017 Nov 13.\\n\\nRisk Factors of Underweight in Children Aged 6-59 Months in Ethiopia.\\n\\nTosheno D(1), Mehretie Adinew Y(2), Thangavel T(2), Bitew Workie S(2).\\n\\nAuthor information:\\n(1)Wolaita Zonal Health Department, Sodo, Ethiopia.\\n(2)College of Health Sciences and Medicine, Wolaita Sodo University, Sodo, \\nEthiopia.\\n\\nBACKGROUND: Undernutrition in early childhood has irreversible and long-lasting \\nimplications. Hence, this study was aimed at assessing risk factors of child \\nundernutrition.\\nMETHODS: A community-based cross-sectional study was conducted on 642 households \\nwith mothers to children pairs aged 6-59 months selected by a multistage \\nsystematic random sampling method. Child anthropometric measurements on weight \\nwere recorded using standardized and calibrated weighing scales. Weight-for-age \\nwas compared to the 2007 WHO growth reference by WHO Anthro software. Data were \\nentered using Epi-Info and analyzed using SPSS. Bivariate and multivariate \\nlogistic regression analyses were used to evaluate the association between \\nunderweight children and their predictors; both crude and adjusted odds ratios \\nwith 95% confidence interval were reported.\\nRESULTS: One-fourth (25%) of the children were underweight. Child age (AOR: \\n2.36), gender (AOR: 1.82), illness (AOR: 0.09), maternal decision making power \\n(AOR: 0.07), maternal education (AOR: 0.19), employment/occupation (AOR: 5.29), \\nand household income (AOR: 4.16) were found to be independent and significant \\npredictors of underweight children.\\nCONCLUSION: Significant proportion of the children were underweight. Maternal \\ndecision-making power persists as a strong predictor of children's weight. \\nTherefore, intervention programs focusing on improving mothers' decision-making \\npower on child nutrition would contribute to the efforts towards alleviating the \\nproblem.\\n\\nDOI: 10.1155/2017/6368746\\nPMCID: PMC5702944\\nPMID: 29259827\",\n",
              " \"17. Beijing Da Xue Xue Bao Yi Xue Ban. 2016 Jun 18;48(3):418-23.\\n\\n[Research on the social determinants of malnutrition among children under the \\nage of 5 in China].\\n\\n[Article in Chinese]\\n\\nMan SL(1), Guo Y(1).\\n\\nAuthor information:\\n(1)Department of Health Policy and Administration, Peking University School of \\nPublic Health, Beijing 100191, China.\\n\\nOBJECTIVE: To understand the relationship between child malnutrition and social \\ndeterminants among children under the age of 5 in China, and to provide evidence \\nand useful information to help policy makers develop social policies to improve \\nchild nutritional status.\\nMETHODS: Information of 2 434 children aged 0-5 was extracted from year 1991 to \\n2011 longitudinal survey data in the China Health and Nutrition Survey (CHNS) \\nwas extracted for analysis. Child underweight, child stunting, and child wasting \\nwere defined using World Health Organization Child Growth Standards for \\nweight-for-age, height-for-age, and weight-for-height. Weight-for-age values, \\nheight-for-age values or weight-for-height values below 2 standard deviations \\nwere considered as underweight, stunting and wasting. World Health Organization \\nigrowup software was used to calculate the prevalence of child underweight, \\nchild stunting, and child wasting. Multivariate Logistic regression model was \\nused to analyze the relationship between child malnutrition and social \\ndeterminants (household income, parents' educational level, living regions, and \\ncommunities' urbanization level).\\nRESULTS: The prevalence of child underweight and child stunting were decreased \\nby 64.8% and 67.8%, respectively from 1991 to 2011, while the prevalence of \\nchild wasting had remained at a relatively low level (below 5%). The problem of \\nchild underweight and stunting had been significantly resolved in China. Female \\nchildren had better outcomes than male children on improving nutritional status. \\nAmong all the non-socio-economic determinants of child malnutrition, children \\nwith low height mother and children had inadequate protein intake were both risk \\nfactors of malnutrition. The social determinants significantly associated to \\nchild malnutrition included: living in the western regions and central regions, \\nliving in low level urbanization communities, with low household incomes, and \\nlow maternal educational levels.\\nCONCLUSION: In order to further decrease the prevalence of child malnutrition \\nand alleviate the inequity of child health, we should pay more attention to the \\nsocial determinants behind child malnutrition. Besides, social policies \\nbeneficial to child nutrition promotion need to be taken urgently, the important \\nsocial policies suggested by the researchers included focusing on maternal and \\nchild dietary intake, improving household economic situation, improving maternal \\neducational level, and balancing economic development and resource distribution \\nbetween different regions in China.\\n\\nPMID: 27318901 [Indexed for MEDLINE]\",\n",
              " \"18. J Phys Act Health. 2016 Sep;13(9):1017-22. doi: 10.1123/jpah.2015-0687. Epub \\n2016 Aug 16.\\n\\nThe (Possibly Negative) Effects of Physical Activity on Executive Functions: \\nImplications of the Changing Metabolic Costs of Brain Development.\\n\\nHoward SJ, Cook CJ, Said-Mohamed R, Norris SA, Draper CE.\\n\\nBACKGROUND: An area of growth in physical activity research has involved \\ninvestigating effects of physical activity on children's executive functions. \\nMany of these efforts seek to increase the energy expenditure of young children \\nas a healthy and low-cost way to affect physical, health, and cognitive \\noutcomes.\\nMETHODS: We review theory and research from neuroscience and evolutionary \\nbiology, which suggest that interventions seeking to increase the energy \\nexpenditure of young children must also consider the energetic trade-offs that \\noccur to accommodate changing metabolic costs of brain development.\\nRESULTS: According to Life History Theory, and supported by recent evidence, the \\nhigh relative energy-cost of early brain development requires that other \\nenergy-demanding functions of development (ie, physical growth, activity) be \\ncurtailed. This is important for interventions seeking to dramatically increase \\nthe energy expenditure of young children who have little excess energy \\navailable, with potentially negative cognitive consequences. Less \\nenergy-demanding physical activities, in contrast, may yield psychosocial and \\ncognitive benefits while not overburdening an underweight child's already scarce \\nenergy supply.\\nCONCLUSIONS: While further research is required to establish the extent to which \\nincreases in energy-demanding physical activities may compromise or displace \\nenergy available for brain development, we argue that action cannot await these \\nfindings.\\n\\nDOI: 10.1123/jpah.2015-0687\\nPMID: 27172615 [Indexed for MEDLINE]\",\n",
              " '19. Obes Open Access. 2015 Sep;1(2):10.16966/2380-5528.105. doi: \\n10.16966/2380-5528.105. Epub 2015 Aug 20.\\n\\nA Health Equity Problem for Low Income Children: Diet Flexibility Requires \\nPhysician Authorization.\\n\\nStookey JD(1).\\n\\nAuthor information:\\n(1)Children\\'s Hospital of Oakland Research Institute, Oakland, CA, USA.\\n\\nUSDA programs, such as the Child and Adult Care Food Program (CACFP), School \\nBreakfast Program (SBP), and/or National School Lunch Program (NSLP), enable \\nchild care centers and schools to provide free and reduced price meals, daily, \\nto millions of low income children. Despite intention to equalize opportunity \\nfor every child to have a healthy diet, USDA program rules may be contributing \\nto child obesity disparities and health inequity. USDA program rules require \\nchild care centers and schools to provide meals that include a specified number \\nof servings of particular types of foods and beverages. The rules are designed \\nfor the average, healthy weight child to maintain weight and growth. They are \\nnot designed for the underweight child to gain weight, obese child to normalize \\nweight, or pre-diabetic child to avoid incident diabetes. The rules allow for \\nonly one meal pattern and volume, as opposed to a flexible spectrum of meal \\npatterns and portion sizes. Parents of children who participate in the CACFP, \\nSBP, and/or NSLP do not have control over the amount or composition of the \\nsubsidized meals. Parents of overweight, obese, or diabetic children who \\nparticipate in the subsidized meal programs can request dietary change, special \\nmeals or accommodations to address their child\\'s health status, but child care \\nproviders and schools are not required to comply with the request unless a \\nlicensed physician signs a \"Medical statement to request special meals and/or \\naccommodations\". Although physicians are the only group authorized to change the \\nfoods, beverages, and portion sizes served daily to low income children, they \\nare not doing so. Over the past three years, despite an overweight and obesity \\nprevalence of 30% in San Francisco child care centers serving low income \\nchildren, zero medical statements were filed to request special meals or \\naccommodations to alter daily meals in order to prevent obesity, treat obesity, \\nor prevent postprandial hyperglycemia. Low income children have systematically \\nless dietary flexibility than higher income children, because of reliance on \\nfree or reduced-price meals, federal food program policy, and lack of awareness \\nthat only physicians have authority to alter the composition of subsidized meals \\nin child care centers and schools. Compared with higher income children, low \\nincome children do not have equal opportunity to change their daily dietary \\nintake to balance energy requirements.\\n\\nDOI: 10.16966/2380-5528.105\\nPMCID: PMC4844226\\nPMID: 27123492',\n",
              " \"20. PLoS One. 2016 Mar 18;11(3):e0151494. doi: 10.1371/journal.pone.0151494. \\neCollection 2016.\\n\\nPrevalence and Associated Factors for Dual Form of Malnutrition in Mother-Child \\nPairs at the Same Household in the Gaza Strip-Palestine.\\n\\nEl Kishawi RR(1), Soo KL(1), Abed YA(2), Wan Muda WA(1).\\n\\nAuthor information:\\n(1)Program of Nutrition, School of Health Sciences, Health Campus, Universiti \\nSains Malaysia, Kubang Kerian, 16150 Kelantan, Malaysia.\\n(2)School of Public Health, Al Quds University, Gaza City, Gaza Strip, \\nPalestine.\\n\\nBACKGROUND: In many developing countries nutritional, and epidemiological \\ntransitions are emerging into continuing undernutrition and escalating \\novernutrition, giving rise to the double burden of the malnutrition phenomenon.\\nOBJECTIVES: This study aims to determine the prevalence of the dual form of \\nmalnutrition (overweight mother/underweight child) in the same household and its \\nassociated factors in the Gaza Strip.\\nMETHODS: A total of 357 mother-child pairs from the same households were \\nsurveyed from three different geographical locations in the Gaza Strip, namely, \\nEl Remal urban area, Jabalia refugee camp, and Al Qarara rural area. The height \\nand weight of mothers aged 18-50 years were measured, and their body mass index \\n(BMI) was computed. The mothers were categorized according to the criterion of \\nthe World Health Organization (WHO) for BMI as overweight if they have a BMI ≥ \\n25 kg/m2. Anthropometric indices were measured for children aged two to five \\nyears to classify the underweight children Z-score <-1.\\nRESULTS: The results showed the prevalence of the dual form of malnutrition in \\nthe Gaza Strip was 15.7%, and its associated factors were child's birth order \\n(ORadj, 1.50, 95% CL, 1.22, 1.82; p = <0.001), father's educational (low or \\nmedium) levels (ORadj, 3.19, 95% CL, 1.07, 9.5; p = 0. 036), or (ORadj, 3.4, 95% \\nCL, 1.12, 10.37; p = 0. 031), high scores of mothers' nutrition knowledge \\n(ORadj, 1.23, 95% CL, 1.01, 1.52; p = 0. 048), and low monthly income (ORadj, \\n0.28, 95% CL, 0.09, 0.88; p = 0. 030).\\nCONCLUSIONS: The results from this study showed the dual form of malnutrition in \\nthe same household was prevalent in the Gaza Strip. This is a public health \\nissue that must be understood and addressed and policy makers must implement an \\nappropriate nutrition action plan to control dual form of malnutrition based on \\nthe underlying specific risk factors in the study population. In addition, \\ninterventions are needed to help individuals to translate their nutrition \\nknowledge into healthy dietary behaviors.\\n\\nDOI: 10.1371/journal.pone.0151494\\nPMCID: PMC4798763\\nPMID: 26990551 [Indexed for MEDLINE]\\n\\nConflict of interest statement: Competing Interests: The authors have declared \\nthat no competing interests exist.\",\n",
              " '21. BMC Res Notes. 2015 Sep 30;8:511. doi: 10.1186/s13104-015-1467-3.\\n\\nInadvertent ligation of the left pulmonary artery during intended ductal \\nligation.\\n\\nTefera E(1), Bermudez-Cañete R(2), van Doorn C(3).\\n\\nAuthor information:\\n(1)Cardiology Unit, Department of Pediatrics and Child Heath, School of \\nMedicine, Addis Ababa University, Corner of Zambia and T. Abanefso road, P.O.Box \\n1768, Addis Ababa, Ethiopia. endalet2008@gmail.com.\\n(2)Department of Pediatric Cardiology, Ramon y Cajal University Hospital, \\nMadrid, Spain. rbermudezcardio@gmail.com.\\n(3)Congenital Cardiac Unit, Leeds Teaching Hospital NHS Trust, Leeds, UK. \\ncavdoorn@yahoo.co.uk.\\n\\nBACKGROUND: Inadvertent ligation of the left pulmonary artery during attempted \\nsurgical closure of a Patent Ductus Arteriosus has long been recognized as one \\nof the less common complications of this procedure. Surgical reconstruction of \\nthe left pulmonary artery was then often attempted but was difficult or \\nimpossible in some of the patients with hypoplasia of the left pulmonary artery \\nand the left lung.\\nCASE PRESENTATION: A 10-year-old girl presented with marked exercise intolerance \\nand palpitations and was diagnosed to have large PDA. She had feeding \\ndifficulty, diaphoresis, failure to gain weight, recurrent chest infections \\nduring infancy and early childhood. Physical examination revealed an underweight \\nchild with wide pulse pressure and bounding peripheral pulses. She had active \\nprecordium with accentuated P2 and machinery murmur in the left 2nd intercostal \\nspace and mid diastolic rumble at the mitral area. Echocardiography showed a \\n12\\xa0mm patent arterial duct. She was taken for an intended surgical ligation of \\nthe duct but a control echocardiogram on the 3rd postoperative day revealed that \\nthe left pulmonary artery, instead of the duct, was ligated. Surgical \\nreconstruction of the left pulmonary artery was undertaken 3\\xa0years later, \\nhowever, this was complicated by post reconstruction left pulmonary artery \\nstenosis. Successful percutaneous stenting of the left pulmonary artery was \\nperformed 18\\xa0months after the surgical reconstruction.\\nCONCLUSION: The incidence of inadvertent LPA ligation may be underestimated \\nwhere PDA ligation is done by less experienced surgeons and postoperative \\nechocardiography is not routinely performed. Late correction of inadvertent LPA \\nligation is an important surgical challenge, especially if the duct is still \\npatent. Percutaneous stenting as a primary option may carry significant risk, as \\nthe ligated pulmonary artery is fragile. In our case, a good result was achieved \\nwith surgical repair followed by percutaneous stenting.\\n\\nDOI: 10.1186/s13104-015-1467-3\\nPMCID: PMC4588232\\nPMID: 26423273 [Indexed for MEDLINE]',\n",
              " \"22. BMC Public Health. 2015 Jul 21;15:680. doi: 10.1186/s12889-015-2058-x.\\n\\nDouble-burden of malnutrition among the indigenous peoples (Orang Asli) of \\nPeninsular Malaysia.\\n\\nWong CY(1), Zalilah MS(2), Chua EY(3), Norhasmah S(4), Chin YS(5), Siti \\nNur'Asyura A(6).\\n\\nAuthor information:\\n(1)Department of Nutrition and Dietetics, Faculty of Medicine and Health \\nSciences, Universiti Putra Malaysia, 43400 UPM, Serdang, Selangor Darul Ehsan, \\nMalaysia. w_swallow11@yahoo.com.\\n(2)Department of Nutrition and Dietetics, Faculty of Medicine and Health \\nSciences, Universiti Putra Malaysia, 43400 UPM, Serdang, Selangor Darul Ehsan, \\nMalaysia. zalilahms@upm.edu.my.\\n(3)Department of Nutrition and Dietetics, Faculty of Medicine and Health \\nSciences, Universiti Putra Malaysia, 43400 UPM, Serdang, Selangor Darul Ehsan, \\nMalaysia. eeyinchua@gmail.com.\\n(4)Department of Nutrition and Dietetics, Faculty of Medicine and Health \\nSciences, Universiti Putra Malaysia, 43400 UPM, Serdang, Selangor Darul Ehsan, \\nMalaysia. norhasmah@upm.edu.my.\\n(5)Department of Nutrition and Dietetics, Faculty of Medicine and Health \\nSciences, Universiti Putra Malaysia, 43400 UPM, Serdang, Selangor Darul Ehsan, \\nMalaysia. chinys@upm.edu.my.\\n(6)Department of Nutrition and Dietetics, Faculty of Medicine and Health \\nSciences, Universiti Putra Malaysia, 43400 UPM, Serdang, Selangor Darul Ehsan, \\nMalaysia. sa_asyura@upm.edu.my.\\n\\nBACKGROUND: Double-burden of malnutrition (DBM) is an emerging public health \\nconcern among the Orang Asli (indigenous peoples) of Peninsular Malaysia. This \\nstudy aimed to identify the presence of DBM at the community and household \\nlevels in Orang Asli population and its associated demographic and \\nsocio-economic factors.\\nMETHODS: This cross-sectional study was conducted in 11 Orang Asli villages \\nsurrounding the Krau Wildlife Reserve, Peninsular of Malaysia from October 2011 \\nto January 2012. Of 438 households, a total of 981 adults and 304 children who \\nmet the study criteria agreed to participate. About 160 households were further \\nselected with pairs of children aged 3-59 months and non-pregnant mothers aged \\n15-55 years. Demographic and socio-economic data were obtained using \\ninterviewer-administered questionnaire while weight and height were measured \\nusing standard procedures. Double-burden of malnutrition was defined as \\noverweight/obese mother-underweight child (OWOBM/UWC), overweight/obese \\nmother-stunted child (OWOBM/STC) or overweight/obese mother-underweight or/and \\nstunted child (OWOBM/UWSTC). Binary logistic regression identified the \\ndemographic and socio-economic factors associated with double-burden households.\\nRESULTS: About 26 % of overweight and obese adults coexisting with high \\nproportions of underweight (49%) and stunted (64%) children in these Orang Asli \\nvillages. There was a higher prevalence of households with OWOBM/UWSTC (20%) and \\nOWOBM/STC (19.4%) than households with OWOBM/UWC (12.5%). Boys (P\\u2009<\\u20090.05), older \\nage mothers (P\\u2009<\\u20090.05), mothers with higher education (P\\u2009<\\u20090.05) and households \\nwith income per capita less than USD 29.01 (RM 97.00) (P\\u2009<\\u20090.01) were associated \\nwith higher odds of OWOBM/STC. Jah Hut (P\\u2009<\\u20090.05) and higher number of children \\n(P\\u2009<\\u20090.05) were significantly associated with lower odds of OWOBM/UWC.\\nCONCLUSIONS: The occurrence of double-burden of malnutrition in Orang Asli \\npopulation deserves attention. Poverty reduction, access to quality diet and \\nimproved health and nutrition literacy are among strategies that could address \\nthe coexistence of DBM in this population.\\n\\nDOI: 10.1186/s12889-015-2058-x\\nPMCID: PMC4508822\\nPMID: 26194643 [Indexed for MEDLINE]\",\n",
              " '23. Am J Clin Nutr. 2014 Dec;100(6):1617S-22S. doi: 10.3945/ajcn.114.084764. Epub\\n 2014 Oct 29.\\n\\nNutrition transition and double burden of undernutrition and excess of weight in \\nBrazil.\\n\\nConde WL(1), Monteiro CA(1).\\n\\nAuthor information:\\n(1)From the School of Public Health, University of São Paulo, São Paulo, Brazil.\\n\\nBACKGROUND: Brazil, a unique Latin American country recognized as 1 of the 8 \\nmajor economies of the world, is experiencing a significant deterioration in \\nhealth equality in the past decade, despite its universal and free-of-charge \\nhealth service that is governed by its national constitution.\\nOBJECTIVE: The objective was to describe the double burden at the national, \\nhousehold, and individual levels as well as its major trends across all \\ndemographic strata in the past 40 y.\\nDESIGN: The data were collected from 6 Brazilian national surveys conducted in \\n1974-1975, 1989, 1996, 2002-2003, 2006, and 2008-2009. Anthropometric indicators \\nwere estimated for all age groups and anemia indicators for children aged <5 y \\nand women aged >15 y according to WHO recommendations. The annual increment rate \\nwas calculated for all indicators to assess the different time points among \\nsurveys.\\nRESULTS: In 2008-2009, 1 of every 7 citizens was obese. From 1974-1975 to \\n2008-2009, the annual obesity increment rate for men was 4.7% each year and was \\n2.5% each year for women. A large decrease in undernutrition in adults was \\nobserved from 1974-1975 to 1989. In children <5 y of age, no increase in the \\nprevalence of overweight across the analyzed periods was observed, whereas a \\nmajor decrease in the prevalence of undernutrition was detected from 1996 to \\n2006-2007. The prevalence of the obese mother-underweight child pair was low. No \\nassociation between anemia and any other child anthropometric indicator was \\ndetected. Prevalence trends of adult obesity stratified by quintiles of per \\ncapita household income showed different trajectories for men and women across \\nthe surveys. In the last period, the poorest and richest adults showed positive \\nincremental rates of obesity.\\nCONCLUSIONS: In Brazil, the current prevalence of excess weight is at least \\n3-fold higher than that of undernutrition. The lowest prevalence rate in the \\nlast period analyzed was observed in children <5 y of age. Inclusive social \\npolicies have succeeded in reducing poverty and in identifying new challenges \\nrelated to obesity control or reduction.\\n\\n© 2014 American Society for Nutrition.\\n\\nDOI: 10.3945/ajcn.114.084764\\nPMID: 25411303 [Indexed for MEDLINE]',\n",
              " \"24. Indian Pediatr. 2014 May;51(5):412-3.\\n\\nAccuracy of mothers' perceptions of their child's weight status.\\n\\nJani R(1), Mihrshahi S, Mandalika S, Mallan KM.\\n\\nAuthor information:\\n(1)Institute of Health and Biomedical Innovation, *School of Population Health, \\nand Institute of Health and Biomedical Innovation and School of Exercise and \\nNutrition Sciences, QUT, Brisbane, Australia and College of Home Science, \\nNirmala Niketan, (affiliated to University of Mumbai), India. Correspondence to: \\nDr KM Mallan, Institute of Health and Biomedical Innovation, Queensland \\nUniversity of Technology, 60 Musk Ave, Kelvin Grove, Brisbane QLD 4059, \\nAustralia. kimberley.mallan@qut.edu.au.\\n\\nThe study examined the accuracy of maternal-perceived child weight. Urban \\naffluent mothers of 111 children aged 2-5 years were recruited. Nearly a quarter \\nof mothers overestimated their underweight child as normal weight and all \\noverweight/obese children were perceived as normal weight. Mothers, therefore, \\nwere unable to recognize their child's true weight status.\\n\\nPMID: 24953592 [Indexed for MEDLINE]\",\n",
              " '25. Int J Prev Med. 2013 Jun;4(6):690-9.\\n\\nThe coexistence of dual form of malnutrition in a sample of rural malaysia.\\n\\nIhab AN(1), Rohana AJ, Manan WM, Suriati WN, Zalilah MS, Rusli AM.\\n\\nAuthor information:\\n(1)Department of Community Medicine, School of Medical Sciences, Health Campus, \\nUniversiti Sains Malaysia, Kubang Kerian, 16150, Kelantan, Malaysia.\\n\\nBACKGROUND: The coexistence of under and over nutrition might be influenced by a \\nmarked shift in dietary and lifestyle practices of people in developing \\ncountries. This study aims to identify factors associated with the occurrence of \\ndual form of malnutrition in the same households in a rural district in \\nPeninsular Malaysia.\\nMETHODS: A cross sectional study was conducted on a 223 mother-child pairs based \\non several inclusion criteria such as; non-pregnant, non lactating mothers and \\nhaving youngest children aged from 2 to 12 years old. Anthropometric indices of \\nWeight-for-age Z score (WAZ) ≤ 1SD was used to classify underweight status in \\nchildren and body mass index (BMI) ≥25kg/m(2) was used to measure overweight \\nstatus among mothers. A pre-tested questionnaire was used to collect \\nsocio-demographic data, whereas food frequency questionnaire was used to assess \\nthe diet diversity.\\nRESULTS: The results showed that the prevalence of overweight mother/underweight \\nchild (OWM/UWC) pairs was 29.6%, whereas the prevalence of normal weight \\nmother/normal weight child (NWM/NWC) pairs was 15.2%. Out of mother-child pairs \\nmeasured, 61.0% of the children were underweight and 61.4% were stunted, whereas \\nthe prevalence of overweight and obesity in women were 35.0% and 17.0%, \\nrespectively. The study did not report any association between the dual burden \\nof malnutrition and household size, number of children, educational level of the \\nmother, total income, income per capita, and food expenditure, except with \\nhousehold type (OR:5.01;95% CI:1.63,15.34; P = 0.005). In general, the total \\ndiet diversity score of both types of mother-child pairs was low.\\nCONCLUSIONS: Dual forms of malnutrition in the same household exists in \\nMalaysian households. This phenomenon will be a big challenge especially for \\nfood intervention programs to be implemented in the future.\\n\\nPMCID: PMC3733037\\nPMID: 23930187\\n\\nConflict of interest statement: Conflict of Interest: None declared',\n",
              " \"26. Nutr J. 2010 Nov 22;9:56. doi: 10.1186/1475-2891-9-56.\\n\\nHome visits by neighborhood Mentor Mothers provide timely recovery from \\nchildhood malnutrition in South Africa: results from a randomized controlled \\ntrial.\\n\\nle Roux IM(1), le Roux K, Comulada WS, Greco EM, Desmond KA, Mbewu N, \\nRotheram-Borus MJ.\\n\\nAuthor information:\\n(1)Philani Child Health and Nutrition Project, Khayelitsha, PO Box 40188, \\nElonwabeni, Cape Town 7791, South Africa.\\n\\nBACKGROUND: Child and infant malnourishment is a significant and growing problem \\nin the developing world. Malnourished children are at high risk for negative \\nhealth outcomes over their lifespans. Philani, a paraprofessional home visiting \\nprogram, was developed to improve childhood nourishment. The objective of this \\nstudy is to evaluate whether the Philani program can rehabilitate malnourished \\nchildren in a timely manner.\\nMETHODS: Mentor Mothers were trained to conduct home visits. Mentor Mothers went \\nfrom house to house in assigned neighborhoods, weighed children age 5 and \\nyounger, and recruited mother-child dyads where there was an underweight child. \\nParticipating dyads were assigned in a 2:1 random sequence to the Philani \\nintervention condition (n = 536) or a control condition (n = 252). Mentor \\nMothers visited dyads in the intervention condition for one year, supporting \\nmothers' problem-solving around nutrition. All children were weighed by Mentor \\nMothers at baseline and three, six, nine and twelve month follow-ups.\\nRESULTS: By three months, children in the intervention condition were five times \\nmore likely to rehabilitate (reach a healthy weight for their ages) than \\nchildren in the control condition. Throughout the course of the study, 43% (n = \\n233 of 536) of children in the intervention condition were rehabilitated while \\n31% (n = 78 of 252) of children in the control condition were rehabilitated.\\nCONCLUSIONS: Paraprofessional Mentor Mothers are an effective strategy for \\ndelivering home visiting programs by providing the knowledge and support \\nnecessary to change the behavior of families at risk.\\n\\nDOI: 10.1186/1475-2891-9-56\\nPMCID: PMC3002292\\nPMID: 21092178 [Indexed for MEDLINE]\",\n",
              " \"27. Appetite. 2010 Jun;54(3):550-6. doi: 10.1016/j.appet.2010.02.013. Epub 2010\\nFeb  26.\\n\\nPressure to eat and restriction are associated with child eating behaviours and \\nmaternal concern about child weight, but not child body mass index, in 2- to \\n4-year-old children.\\n\\nGregory JE(1), Paxton SJ, Brozovic AM.\\n\\nAuthor information:\\n(1)School of Psychological Science, La Trobe University, Bundoora, Victoria \\n3086, Australia.\\n\\nThe purpose of this study was to explore relationships between maternal concern \\nabout child under- and overweight, the use of maternal feeding practices \\n(pressure to eat and restriction, monitoring and modelling of healthy eating), \\nchild eating behaviours (fussiness and food responsiveness) and child body mass \\nindex. The sample consisted of 183 mothers of 2- to 4-year-old children who \\ncompleted questionnaires about their feeding practices, concern about their \\nchild's weight, their child's eating behaviours, height and weight. Correlation \\nanalyses found that pressure to eat was positively associated with concern about \\nchild underweight, while restriction was positively associated with concern \\nabout child overweight. Monitoring and modelling were not independently \\nassociated with concern about child weight. Regression analysis revealed that \\nchild food fussiness positively predicted maternal pressure to eat, and this \\nrelationship was partially mediated by concern about child underweight. Child \\nfood responsiveness positively predicted restriction, and this relationship was \\npartially mediated by concern about child overweight. Child BMI did not \\nindependently predict maternal feeding practices. The findings provide a useful \\ncontribution to the literature on determinants of maternal feeding practices, \\nbut further research is necessary to gain an understanding of the impact of \\nthese behaviours on child eating behaviour and weight.\\n\\nCopyright 2010 Elsevier Ltd. All rights reserved.\\n\\nDOI: 10.1016/j.appet.2010.02.013\\nPMID: 20219609 [Indexed for MEDLINE]\",\n",
              " \"28. Asia Pac J Clin Nutr. 2009;18(3):412-22.\\n\\nFood variety score is associated with dual burden of malnutrition in Orang Asli \\n(Malaysian indigenous peoples) households: implications for health promotion.\\n\\nSaibul N(1), Shariff ZM, Lin KG, Kandiah M, Ghani NA, Rahman HA.\\n\\nAuthor information:\\n(1)Department of Nutrition and Dietetics, Faculty of Medicine and Health \\nSciences, Universiti Putra Malaysia, Selangor, Malaysia.\\n\\nThis paper reports on the presence of dual burden households in Orang Asli (OA, \\nindigenous people) communities and its associated factors. A total of 182 OA \\nhouseholds in two districts in Selangor with the required criteria (182 \\nnon-pregnant women of child bearing age and 284 children aged 2-9 years old) \\nparticipated in the study. Height and weight of both women and children were \\nmeasured. Energy intake and food variety score (FVS) were determined using three \\n24-hour diet recalls. While 58% were underweight and 64% of the children were \\nstunted, the prevalence of overweight and obesity in women were 31% and 20% \\nrespectively. The percentage of dual burden households (overweight \\nmother/underweight child) was 25.8% while 14.8% households had normal weight \\nmother/normal weight child. The mean food variety score (FVS) was similar for \\nwomen (7.0+/-2.1) and children (6.9+/-1.9). Dual burden households were \\nassociated with women's employment status (OR: 3.18, 95% CI: 2.65-5.66), FVS of \\nchildren (OR: 0.71, 95% CI: 0.51-0.95) and FVS of women (OR: 1.39, 95% CI: 1.02- \\n1.89). The FVS of children (OR: 0.49, 95% CI: 0.25-0.89) and women (OR: 1.92, \\n95% CI: 1.64-2.77) remained significant even when dual burden households were \\ncompared to only households with normal weight mother/normal weight child. In \\nthese OA communities, food variety may predict a healthier diet in children, but \\nmay increase the risk of overweight and obesity in adults. Efforts to address \\nhouseholds with dual burden malnutrition should consider promotion of healthy \\ndiets and lifestyle for all members.\\n\\nPMID: 19786390 [Indexed for MEDLINE]\",\n",
              " \"29. Arch Phys Med Rehabil. 2006 Nov;87(11):1503-8. doi:\\n10.1016/j.apmr.2006.07.270.\\n\\nWeight gain in children with hypertonia of cerebral origin receiving intrathecal \\nbaclofen therapy.\\n\\nMcCoy AA(1), Fox MA, Schaubel DE, Ayyangar RN.\\n\\nAuthor information:\\n(1)Department of Patient Food and Nutrition Services, University of Michigan \\nHealth System, Ann Arbor, MI 48108-0744, USA.\\n\\nOBJECTIVE: To identify the pattern of weight change in children receiving \\nintrathecal baclofen (ITB) therapy.\\nDESIGN: A retrospective medical chart review was conducted to identify weight \\nstatus before and after ITB pump implantation.\\nSETTING: Tertiary care children's hospital and academic medical center.\\nPARTICIPANTS: All children and adolescents with hypertonia of cerebral origin \\nwho were younger than 19 years of age at the time of pump placement and followed \\nin our pediatric baclofen pump program.\\nINTERVENTIONS: Not applicable.\\nMAIN OUTCOME MEASURES: A linear mixed model was used to examine the rate of \\nchange in weight (weight-gain velocity) before and after surgery. Weight change \\nwas adjusted for age, sex, functional level determined by the Gross Motor \\nFunctional Classification System, tube feeding, dystonia, and other \\ncomorbidities.\\nRESULTS: The average weight-gain velocity was 2.32 kg/y presurgery and 2.93 kg/y \\npostsurgery, adjusted for potential confounders. The 0.61 kg/y increase in \\nweight-gain velocity attained statistical significance (P = .028).\\nCONCLUSIONS: Although excessive weight gain is not a common problem in children \\nwith cerebral origin spasticity, increased weight-gain velocity is prevalent in \\nchildren receiving ITB therapy. Health care providers may anticipate a welcome \\nweight gain in the underweight child. This consequence should be considered when \\nmanaging children receiving ITB therapy, and health care providers must \\nappropriately intervene to prevent excessive weight gain. Further studies \\nexploring the reasons for the increased weight-gain velocity are warranted.\\n\\nDOI: 10.1016/j.apmr.2006.07.270\\nPMID: 17084127 [Indexed for MEDLINE]\",\n",
              " \"30. Asia Pac J Clin Nutr. 2003;12(4):438-46.\\n\\nA case study on dual forms of malnutrition among selected households in District \\n1, Tondo, Manila.\\n\\nAngeles-Agdeppa I(1), Lana RD, Barba CV.\\n\\nAuthor information:\\n(1)Food and Nutrition Research Institute, Department of Science and Technology, \\nGen. Santos Ave., Bicutan, Taguig, Metro Manila, Philippines. \\niaa@fnri.dost.gov.ph\\n\\nThe co-existence of under-and overnutrition in developing countries might be the \\nresultant factor of a marked shift in dietary and lifestyle practices of people, \\nespecially in urban areas. The eating of high fat, high caloric diets, the \\npresence of inactive entertainment devices and mechanized labour influence \\npatterns of food demand and physical activity. This study identified factors \\nassociated with the occurrence of under/overweight or normal/normal nutritional \\nstatus of child-mother pairs in one household. This study was conducted in two \\nphases. The first phase was a survey of 376 child-mother pairs. The children \\naged 33-83 months were attending classes in government day care centres. \\nAnthropometric indices: weight-for-age Z score (WAZ) < or = -2SD was used to \\nclassify underweight in children. WAZ+1 to -1SD was used to indicate normal \\nnutritional status in children, specifically for this study, in order to \\nestablish a more homogenous group. Body mass index (BMI) > or = 25 kg/m2 was \\nused to measure overweight among mothers. Results showed that about 59% of the \\nchild-mother pairs were suffering from two different types of malnutrition. From \\nthis, 31 (8.2%) child-mother pairs in the same household were experiencing \\nunderweight/overweight: the child was underweight and the mother was overweight. \\nThe second phase of the study was an in-depth study of these 31 under/overweight \\nchild-mother pairs and 30 randomly selected normal/normal pairs. Pre-tested \\nquestionnaires were used to gather socio-economic-demographic data; 3 day 24-h \\nfood recall for dietary intake and 24-h activity recall for physical activity. \\nResults showed that the different factors associated with the existence of \\nunderweight child/overweight mother (UC/OM) or normal child/normal mother \\n(NC/NM) in this study were: mother's educational level, mother's occupation, and \\nnumber of children in the household; energy intake, the preference of meats, \\nsweets and sugars among children or meats and fried foods among mothers; and \\nmother's perception on body size. Physical activity of both mothers and children \\nwas higher in the UC/OM than in the NC/NM group. The problem of undernutrition \\nand overnutrition in one household poses enormous challenges. Although this \\nstudy cannot make an inference to the whole population, the results indicate \\nthat there is a need to consider whether public health programs should focus on \\nhealthy diet and lifestyle patterns that will lead to optimal health outcomes at \\nboth ends of the spectrum of nutritional status.\\n\\nPMID: 14672868 [Indexed for MEDLINE]\",\n",
              " '31. Asia Pac J Clin Nutr. 2003;12(4):427-37.\\n\\nDual forms of malnutrition in the same households in Malaysia--a case study \\namong Malay rural households.\\n\\nKhor GL(1), Sharif ZM.\\n\\nAuthor information:\\n(1)Department of Nutrition and Health Sciences, Faculty of Medicine and Health \\nSciences Universiti Putra Malaysia, 43400 Serdang, Malaysia. \\nkhorgl@medic.upm.edu.my\\n\\nThis report is a part of a multi-centre study in Asia on the problem of dual \\nforms of malnutrition in the same households. In Malaysia, the prevalence of \\nunderweight and stunting persist among young children from poor rural areas. \\nOverweight in adults, especially women from poor rural areas has been reported \\nin recent years. Thus, this study was undertaken in order to assess the presence \\nof the dual burden of underweight child-overweight mother pairs in a poor rural \\ncommunity. Out of 140 Malay households identified to have at least one child \\naged 1-6 years and mother aged above 20 years, 52.1% of the mothers were \\noverweight, 15.7% of the children were underweight, 27.1% stunted and 5% wasted. \\nSocio-economic background and food intake frequency data were collected from 54 \\nunderweight child/overweight mother pairs (UW/OW) and 41 normal weight \\nchild/normal weight mother pairs (NW/NW). Compared with the overweight mothers, \\na higher percentage of the normal weight mothers had received secondary \\neducation, were employed and with a higher household monthly income, although \\nthese differences were not significant. Patterns of food intake of the mothers \\nand children appeared to have more similarities than differences between the \\nUW/OW and NW/NW groups. Quantitative dietary intakes for 2 days using 24-hr \\nrecall and physical activity energy expenditure over the same period were \\nassessed in a sub-group of UW/OW and NW/NW mothers and children. The NW/NW \\nchildren showed significantly higher intake of total calories, fat and \\nriboflavin than the UW/OW counterparts. Mean energy and nutrient intake of \\nmothers from both groups were not significantly different, although the NW/NW \\nmothers showed higher intake adequacy for total calories and most nutrients. \\nWhile most of the mothers from both groups reported having no chronic illnesses, \\nabout half of the children in both groups had infections, especially \\ngastrointestinal infections, over a 2-week period. Energy expenditure from \\nphysical activity for both UW/OW and NW/NW mothers and children did not differ \\nsignificantly. This study confirmed inadequate intake of total energy and \\nnutrients as the major factor for underweight in Malay children from rural \\nareas. However, assessing intake and physical activity by interview methods were \\nnot sensitive enough to overcome perceived problems of under-reporting of energy \\nintake and over-estimation of energy expenditure, especially by overweight \\nsubjects. Further investigations on a larger sample are necessary to understand \\nthe family dynamics leading to the double burden of malnutrition within the same \\nhousehold.\\n\\nPMID: 14672867 [Indexed for MEDLINE]',\n",
              " '32. J Nutr. 2000 Dec;130(12):2965-71. doi: 10.1093/jn/130.12.2965.\\n\\nOverweight and underweight coexist within households in Brazil, China and \\nRussia.\\n\\nDoak CM(1), Adair LS, Monteiro C, Popkin BM.\\n\\nAuthor information:\\n(1)Department of Nutrition, School of Public Health, University of North \\nCarolina, Chapel Hill, NC 27514-7400, USA.\\n\\nThe possibility that underweight and overweight coexist within households and \\nunderstanding such an occurrence have not been studied sufficiently. In fact, \\nunderweight and overweight are thought of as resulting from very different \\nenvironmental, behavioral and individual risk factors. This study identified \\nhouseholds in which overweight and underweight coexist and explored \\nhousehold-level associations such as urban residence and income. Using three \\nlarge national surveys from Brazil, China and Russia, the prevalence of such \\nhouseholds ranged from 8% in China and Russia to 11% in Brazil. Even more \\nimportant from the public health perspective is the finding that these \\nunder/over households accounted for a high proportion of all households with an \\nunderweight member in China (23%), Brazil (45%), and Russia (58%). The \\nprevalence of the underweight/overweight household was highest in the urban \\nenvironment in all three countries. There was no clear pattern in the prevalence \\nof the underweight/overweight household type by income. Multivariable logistic \\nregression was used to test the significance of the association of household \\ntype with urban residence and income while controlling for household size and \\nhousehold demographics by gender. Further analysis was done to consider the age \\nrelationships within the underweight/overweight pair. The underweight child \\ncoexisting with an overweight nonelderly adult was the predominant pair \\ncombination in all three countries. These findings illustrate the need for \\npublic health programs that are able to address underweight and overweight \\nsimultaneously.\\n\\nDOI: 10.1093/jn/130.12.2965\\nPMID: 11110855 [Indexed for MEDLINE]',\n",
              " \"33. Mycopathologia. 1990 Apr;110(1):1-9. doi: 10.1007/BF00442763.\\n\\nAflatoxin excretion in children with kwashiorkor or marasmic kwashiorkor--a \\nclinical investigation.\\n\\nde Vries HR(1), Maxwell SM, Hendrickse RG.\\n\\nAuthor information:\\n(1)St Mary's Hospital Mumias, Kakamega district, Kenya.\\n\\nA group of five children with kwashiorkor, seven with marasmic kwashiorkor and \\none underweight child were given an aflatoxin-free diet consisting of maize meal \\nand milk powder. Blood specimens were collected on admission; on day 4 and 10, \\n24 hour urine and stool samples were collected for the first ten days. Serum, \\nurine and stool samples were analysed for aflatoxins using high performance \\nliquid chromatography with fluorescent detection, after various extraction and \\nclean-up procedures. The children with kwashiorkor and marasmic kwashiorkor \\nexcreted aflatoxins in stools for up to 9 and 6 days after admission \\nrespectively. No aflatoxins were detected in the stools or urine of the \\nunderweight child. In kwashiorkor, urinary excretion ceased after 2 days, while \\nin marasmic kwashiorkor urinary excretion persisted for 4 days. In stools, B1 \\nwas the type of aflatoxin detected most frequently in kwashiorkor and least \\nfrequently in marasmic kwashiorkor. Aflatoxin M2 was frequently detected in the \\nstools of both groups of children. Estimates of the total amount of aflatoxin \\nexcreted by kwashiorkor and marasmic kwashiorkor indicate that these children \\nwere harbouring up to 4 micrograms/kg body weight at the time of admission. \\nThese findings establish that aflatoxins accumulate in body fluids and tissues \\nin kwashiorkor and marasmic kwashiorkor which is only slowly eliminated.\\n\\nDOI: 10.1007/BF00442763\\nPMID: 2112691 [Indexed for MEDLINE]\",\n",
              " '34. BMJ. 1989 May 13;298(6683):1284-7. doi: 10.1136/bmj.298.6683.1284.\\n\\nAssociation of antecedent malnutrition with persistent diarrhoea: a case-control \\nstudy.\\n\\nBhandari N(1), Bhan MK, Sazawal S, Clemens JD, Bhatnagar S, Khoshoo V.\\n\\nAuthor information:\\n(1)Department of Paediatrics, All India Institute of Medical Sciences, New \\nDelhi.\\n\\nTo determine the effect of nutritional state on persistent diarrhoea a \\ncase-control study was carried out on 756 children followed up prospectively for \\n18 months. Children who developed persistent diarrhoea were compared with \\npopulation controls and controls with acute diarrhoea. The mean weight for age \\nin the children with persistent diarrhoea (69.9%) was significantly lower than \\nthat in the population controls (77.0%) and the diarrhoeal controls (76.2%). \\nWeight for age of less than or equal to 70% was associated with persistent \\ndiarrhoea in both case-control analyses (population controls, matched odds ratio \\n3.25; diarrhoeal controls, matched odds ratio 2.46). The corrected odds \\n(multiple logistic regression) in the two analyses were 3.2 (95% confidence \\ninterval 1.3 to 8.1) and 3.4 (1.2 to 9.1). Weight for age of less than or equal \\nto 70% increases the risk of persistent diarrhoea. In an underweight child there \\nis a higher risk of diarrhoea becoming persistent. Prevention of malnutrition \\nand intensive management of acute diarrhoea in malnourished children should help \\nreduce the risk of the diarrhoea persisting.\\n\\nDOI: 10.1136/bmj.298.6683.1284\\nPMCID: PMC1836499\\nPMID: 2500197 [Indexed for MEDLINE]',\n",
              " '35. Zentralbl Gynakol. 1987;109(11):722-8.\\n\\n[Screening for neurosis in pregnant patients allows better detection of the risk \\nof an underweight child].\\n\\n[Article in German]\\n\\nHerold K.\\n\\nA neurosis screening was performed at the outpatient department of pregnant \\nwomen in the town Karl-Marx-Stadt. In 1985 364 pregnant women received a GDR \\nmade questionnaire of troubles at the first consultation in the 12th week of \\ngestation. Probable neurosis was found in 12 per cent. Unmarried women with \\nprobable neurosis had a low birthweight infant in 25 per cent, women with \\nabortion or interruptio in their history in 30 per cent. The risk of low \\nbirthweight infant can be better detected using a neurosis screening. By this \\nthe obstetrician has a chance of better connection with the pregnant women \\ndebating their psychic situation.\\n\\nPMID: 3630460 [Indexed for MEDLINE]',\n",
              " \"36. J Trop Med Hyg. 1984 Apr;87(2):83-9.\\n\\nNutritional status, body size and severity of diarrhoea associated with \\nrotavirus or enterotoxigenic Escherichia coli.\\n\\nBlack RE, Merson MH, Eusof A, Huq I, Pollard R.\\n\\nChildren with severe malnutrition have an increased risk of death from \\ndiarrhoea. To determine if the clinical manifestations of specific types of \\ndiarrhoea differed according to the nutritional status or size (weight and \\nlength) of the patient, we studied children with acute diarrhoea associated with \\nrotavirus or enterotoxigenic Escherichia coli. In this study we found that a \\nchild's body size, which was determined by his age and nutritional status, was a \\nsignificant predictor of his rate of stool output per kilogram of body weight. \\nThus, children who are small because of young age and/or malnutrition appear to \\nlose a greater proportion of their total fluid volume during diarrhoea and might \\nbe expected to have a higher frequency of severe dehydration and death, if \\nuntreated.\\n\\nPIP: This study assessed the effects of undernutrition (measured by \\nweight-for-length) and low body weight on stool output rates in 82 children \\nunder 5 years of age with diarrhea associated with rotavirus or enterotoxigenic \\nEscherichia coli. Although weight-for-length status did not affect stool output, \\nchildren appeared to lose fluid as a greater rate if they had low body weight. \\nLower-weight children had rates of stool loss 14-61% greater than higher-weight \\nchildren. Multiple regressionanalysis aimed at determining whether age, weight, \\nor length was the best predictor of stool output found that length was the best \\npredictor. However, weight and age are likely to be indirectly related to \\ndiarrheal severity, since malnutrition and young age are reasons for smaller \\nbody weight or length. It is hypothesized that the small intestine of an \\nunderweight child is greater in proportion to body weight than that of a normal \\nweight child, resulting in larger stool losses per kg/body weight. The finding \\nthat children of small body size lose a greater proportion of their body fluid \\nduring diarrhea suggests that these children should be regarded as a high risk \\ngroup during diarrhea. Special attention should be given to water and \\nelectrolyte replacement to prevent dehydration and death among these children.\\n\\nPMID: 6379203 [Indexed for MEDLINE]\",\n",
              " '37. Z Geburtshilfe Perinatol. 1977 Dec;181(6):438-47.\\n\\n[Clinical investigations relating to a causal connection between abruptio \\nplacentae and subsequent birth of an underweight child (author\\'s transl)].\\n\\n[Article in German]\\n\\nVoigt R, Seewald HJ, Voigt P.\\n\\nThe question was studied as to whether there is a causal connection between \\nabruptio and birth of an underweight child in the subsequent pregnancy. While \\nthe phenomena involved are still largely unexplained, though clearly manifold, \\nwhich can lead to the birth of \"low birth weight children\", it is shown that \\nabruptio cannot be regarded as a prime risk factor. A comparison with the \\ninternational literature shows that the specific features of the patient group \\ninvestigated must always be taken into account when answering this question.\\n\\nPMID: 602334 [Indexed for MEDLINE]',\n",
              " '38. J Gynecol Obstet Biol Reprod (Paris). 1975 Mar;4(2):235-43.\\n\\n[Induced hyperglycemia and its relationship to underweight fetuses: study on a \\nnewborn infant].\\n\\n[Article in French]\\n\\nBerland H, Moessner F, Willard D, Freyss E, Tissier J.\\n\\nA study was carried out on hyperglycaemia induced by intravenous administration \\nof glucose between the 1st and 4th day of life in healthy new-born infants and \\nin underweight newborns. The blood glucose level in underweight infants is \\nslightly lower than that in healthy new-born infants. The level of insulin in \\nthe blood is much lower in the underweight child after 30 minutes. Although the \\nlevels of insulin and Glucagon in the blood vary between the two groups the \\nratio of Glucagon to insulin is constant and evolves constantly. The ratio is \\nhigher the more underweight the child is. It is possible that this can help to \\nmaintain the level of blood glucose sufficiently high in the underweight \\nnew-born infant.\\n\\nPMID: 1230487 [Indexed for MEDLINE]',\n",
              " '39. Practitioner. 1972 Feb;208(244):220-6.\\n\\nThe underweight child.\\n\\nLaurance BM.\\n\\nPMID: 5015784 [Indexed for MEDLINE]',\n",
              " '40. Practitioner. 1954 Oct;173(1036):498-501.\\n\\nThe underweight child.\\n\\nBELL AD.\\n\\nPMID: 13215254 [Indexed for MEDLINE]',\n",
              " '41. Can Med Assoc J. 1928 Nov;19(5):620-1.\\n\\nThe Underweight Child.\\n\\n[No authors listed]\\n\\nPMCID: PMC1710118\\nPMID: 20317107',\n",
              " '42. J Natl Med Assoc. 1928 Jan;20(1):10-2.\\n\\nThe Underweight Child.\\n\\nBurwell TS.\\n\\nPMCID: PMC2624643\\nPMID: 20892243']"
            ]
          },
          "metadata": {},
          "execution_count": 39
        }
      ]
    },
    {
      "cell_type": "markdown",
      "metadata": {
        "id": "JjvejHw71fIL"
      },
      "source": [
        "Next, we will split each abstract from `all_abstracts` into the categories: 'Journal', 'Title', 'Authors', 'Author_Information', 'Abstract', 'DOI', and 'Misc'. After splitting each abstract, we will write the information to a csv file for downstream analysis."
      ]
    },
    {
      "cell_type": "code",
      "execution_count": null,
      "metadata": {
        "colab": {
          "base_uri": "https://localhost:8080/"
        },
        "id": "p_jzxMiN1fIL",
        "outputId": "74ad0305-fc1c-4fc8-f68b-0b473cc15f06"
      },
      "outputs": [
        {
          "output_type": "stream",
          "name": "stdout",
          "text": [
            "1. J Health Popul Nutr. 2024 Jan 2;43(1):1. doi: 10.1186/s41043-023-00479-y.\n",
            "\n",
            "Mother-child dyads of overnutrition and undernutrition in sub-Saharan Africa.\n",
            "\n",
            "Okyere J(1)(2), Donkoh IE(3), Seidu AA(4)(5), Ahinkorah BO(6)(7), Aboagye RG(8), \n",
            "Yaya S(9)(10).\n",
            "\n",
            "Author information:\n",
            "(1)Department of Population and Health, University of Cape Coast, Cape Coast, \n",
            "Ghana.\n",
            "(2)Department of Nursing, College of Health Sciences, Kwame Nkrumah University \n",
            "of Science and Technology, Kumasi, Ghana.\n",
            "(3)Department of Medical Laboratory Science, University of Cape Coast, Cape \n",
            "Coast, Ghana.\n",
            "(4)Centre for Gender and Advocacy, Takoradi Technical University, Takoradi, \n",
            "Ghana.\n",
            "(5)College of Public Health, Medical and Veterinary Sciences, James Cook \n",
            "University, Townsville, Australia.\n",
            "(6)School of Clinical Medicine, University of New South Wales Sydney, Sydney, \n",
            "Australia.\n",
            "(7)School of Public Health, Faculty of Health, University of Technology Sydney, \n",
            "Sydney, Australia.\n",
            "(8)Department of Family and Community Health, Fred N. Binka School of Public \n",
            "Health, University of Health and Allied Sciences, Hohoe, Ghana.\n",
            "(9)School of International Development and Global Studies, University of Ottawa, \n",
            "Ottawa, Canada. sanni.yaya@uOttawa.ca.\n",
            "(10)The George Institute for Global Health, Imperial College London, London, UK. \n",
            "sanni.yaya@uOttawa.ca.\n",
            "\n",
            "BACKGROUND: Malnutrition remains one of the major public health concerns \n",
            "globally. To achieve the Sustainable Development Goal 2 which seeks to ensure \n",
            "that hunger and malnutrition are reduced by 2030, it is imperative to ascertain \n",
            "the factors influencing their occurrence. This study examined the prevalence and \n",
            "factors associated with mother-child dyads of overnutrition and undernutrition \n",
            "in sub-Saharan Africa.\n",
            "METHODS: Demographic and Health Survey data from 25 sub-Saharan African \n",
            "countries were used for the study. The sample was made up of 125,280 \n",
            "mother-child dyads. Descriptive analysis was performed to determine the \n",
            "prevalence of overweight or obese mother (OWOBM) with a stunted child \n",
            "(OWOBM-SC), OWOBM with an underweight child (OWOBM-UC), OWOBM with a wasted \n",
            "child (OWOBM-WC), and OWOBM with any form of child's undernutrition indicators \n",
            "(OWOBM-SUWC). Multilevel regression models were developed to examine the factors \n",
            "associated with these indicators. The results were presented using an adjusted \n",
            "odds ratio (AOR) with their respective 95% confidence interval (CI).\n",
            "RESULTS: Higher likelihood of OWOBM-SUWC was found among women aged 45-49 [AOR \n",
            "2.20, 95% CI 1.70, 2.85], those with primary [AOR 1.32, 95% CI 1.21, 1.44] or \n",
            "secondary education [AOR 1.21, 95% CI 1.09, 1.35], and divorced women [AOR 1.32, \n",
            "95% CI 1.02, 1.73]. However, lower odds of OWOBM-SUWC were observed among women \n",
            "who were working [AOR 0.82, 95% CI 0.76, 0.89] and those breastfeeding [AOR \n",
            "0.75, 95% CI 0.70, 0.82]. The odds of OWOBM-SUWC was lower among females \n",
            "compared to male children [AOR 0.85, 95% CI 0.80, 0.90]. Compared to children \n",
            "aged <1 year, children of all other age groups were more likely to have \n",
            "OWOBM-SUWC. Other child characteristics significantly associated with OWOBM-SUWC \n",
            "were low birth weight [AOR 1.50, 95% CI 1.32, 1.71], having diarrhea [AOR 1.13, \n",
            "95% CI 1.04, 1.24], and higher birth order [AOR 1.37, 95% CI 1.13, 1.66]. \n",
            "Children whose mothers used unimproved toilet facilities [AOR 0.90, 95% CI 0.83, \n",
            "0.98], those who lived in rural areas [AOR 0.79, 95% CI 0.71, 0.87], \n",
            "and children from the Central [AOR 0.55, 95% CI 0.46, 0.65], Eastern [AOR 0.44, \n",
            "95% CI 0.38, 0.52] and Western [AOR 0.76, 95% CI 0.65, 0.89] sub-Saharan Africa \n",
            "were less likely to have OWOBM-SUWC.\n",
            "CONCLUSION: Combination of child, maternal, and contextual factors could explain \n",
            "mother-child dyads of overnutrition and undernutrition in sub-Saharan Africa. \n",
            "Addressing this situation requires multidimensional policies and interventions \n",
            "that empower women through education and economic engagement. The observed \n",
            "sub-regional differences in policies and commitments related to addressing \n",
            "malnutrition suggest the need for comprehensive and coordinated efforts to \n",
            "implement and strengthen multisectoral comprehensive nutrition plans across \n",
            "sub-Saharan Africa. Sharing best practices and lessons learned can help improve \n",
            "the effectiveness and comprehensiveness of nutrition interventions and \n",
            "contribute to reducing the prevalence of malnutrition.\n",
            "\n",
            "© 2023. The Author(s).\n",
            "\n",
            "DOI: 10.1186/s41043-023-00479-y\n",
            "PMCID: PMC10759505\n",
            "PMID: 38167549 [Indexed for MEDLINE]\n",
            "\n",
            "Conflict of interest statement: The authors declare that they have no competing \n",
            "interests.\n",
            "2. Sci Rep. 2023 Jan 25;13(1):1416. doi: 10.1038/s41598-023-28114-0.\n",
            "\n",
            "Citrulline and kynurenine to tryptophan ratio: potential EED (environmental \n",
            "enteric dysfunction) biomarkers in acute watery diarrhea among children in \n",
            "Bangladesh.\n",
            "\n",
            "Das R(1)(2), Haque MA(3), Sobi RA(3), Sultana AA(3), Khan MA(3), Gazi A(3), \n",
            "Mahfuz M(3)(4), Nahar B(3), Bardhan PK(3), Ahmed T(3)(5)(6).\n",
            "\n",
            "Author information:\n",
            "(1)Nutrition and Clinical Services Division, icddr,b, 68 Shaheed Tajuddin Ahmed \n",
            "Sharani, Dhaka, 1212, Bangladesh. rina.das@icddrb.org.\n",
            "(2)Department of Environmental Health Sciences, Rollins School of Public Health, \n",
            "Emory University, Atlanta, GA, 30322, USA. rina.das@icddrb.org.\n",
            "(3)Nutrition and Clinical Services Division, icddr,b, 68 Shaheed Tajuddin Ahmed \n",
            "Sharani, Dhaka, 1212, Bangladesh.\n",
            "(4)Faculty of Medicine and Life Sciences, University of Tampere, 33100, Tampere, \n",
            "Finland.\n",
            "(5)James P. Grant School of Public Health, BRAC University, Dhaka, 1212, \n",
            "Bangladesh.\n",
            "(6)Department of Global Health, University of Washington, Seattle, WA, 98104, \n",
            "USA.\n",
            "\n",
            "Two emerging biomarkers of environmental enteric dysfunction (EED) include \n",
            "plasma citrulline (CIT), and the kynurenine (KYN): tryptophan (TRP)/ (KT) ratio. \n",
            "We sought to investigate the plasma concentration of CIT and KT ratio among the \n",
            "children having dehydrating diarrhea and examine associations between \n",
            "concentrations of CIT and KT ratio with concurrent factors. For this analysis, \n",
            "we used cross-sectional data from a total of 102, 6-36 months old male children \n",
            "who suffered from non-cholera acute watery diarrhea and had some dehydration \n",
            "admitted to an urban diarrheal hospital, in Bangladesh. CIT, TRP, and KYN \n",
            "concentrations were determined at enrollment from plasma samples using ELIZA. At \n",
            "enrollment, the mean plasma CIT concentration was 864.48 ± 388.55 µmol/L. The \n",
            "mean plasma kynurenine, tryptophan concentrations, and the KT ratio (× 1000) \n",
            "were 6.93 ± 3.08 µmol/L, 33.44 ± 16.39 µmol/L, and 12.12 ± 18.10, respectively. \n",
            "With increasing child age, KYN concentration decreased (coefficient: - 0.26; \n",
            "95%CI: - 0.49, - 0.04; p = 0.021); with increasing lymphocyte count, CIT \n",
            "concentration decreased (coef.: - 0.01; 95% CI: - 0.02,0.001, p = 0.004); the \n",
            "wasted child had decreased KT ratio (coef.: - 0.6; 95% CI: - 1.18, - 0.02; \n",
            "p = 0.042) after adjusting for potential covariates. The CIT concentration was \n",
            "associated with blood neutrophils (coef.: 0.02; 95% CI: 0.01, 0.03; p < 0.001), \n",
            "lymphocytes (coef.: - 0.02; 95% CI: - 0.03, - 0.02; p < 0.001) and monocyte \n",
            "(coef.: 0.06; 95% CI: 0.01, 0.11; p = 0.021); KYN concentration was negatively \n",
            "associated with basophil (coef.: - 0.62; 95% CI: - 1.23, - 0.01; p = 0.048) \n",
            "after adjusting for age. In addition, total stool output (gm) increased (coef.: \n",
            "793.84; 95% CI: 187.16, 1400.52; p = 0.011) and also increased duration of \n",
            "hospital stay (hour) (coef.: 22.89; 95% CI: 10.24, 35.54; p = 0.001) with \n",
            "increasing CIT concentration. The morphological changes associated with EED may \n",
            "increase the risk of enteric infection and diarrheal disease among children. \n",
            "Further research is critically needed to better understand the complex \n",
            "mechanisms by which EED biomarkers may impact susceptibility to dehydrating \n",
            "diarrhea in children.\n",
            "\n",
            "© 2023. The Author(s).\n",
            "\n",
            "DOI: 10.1038/s41598-023-28114-0\n",
            "PMCID: PMC9876903\n",
            "PMID: 36697429 [Indexed for MEDLINE]\n",
            "\n",
            "Conflict of interest statement: The authors declare no competing interests.\n",
            "3. Heliyon. 2022 Oct 26;8(11):e11235. doi: 10.1016/j.heliyon.2022.e11235. \n",
            "eCollection 2022 Nov.\n",
            "\n",
            "Under-nutrition and its determinants among school-aged children in northwest \n",
            "Ethiopia.\n",
            "\n",
            "Tebeje DB(1), Agitew G(2), Mengistu NW(3), Aychiluhm SB(4).\n",
            "\n",
            "Author information:\n",
            "(1)AGP2 CDSF, Agriteam Canada, Central and West Gondar Zone, Amhara Regional \n",
            "State, Ethiopia.\n",
            "(2)Department of Rural Development & Agricultural Extension, College of \n",
            "Agriculture & Environmental Science, University of Gondar, Gondar, Ethiopia.\n",
            "(3)Department of Nutrition, Institute of Public Health, College of Medicine and \n",
            "Health Sciences, University of Gondar, Gondar, Ethiopia.\n",
            "(4)Department of Public Health, College of Medicine and Health Sciences, Samara \n",
            "University, Samara, Ethiopia.\n",
            "\n",
            "BACKGROUND: Malnutrition among children has lifelong implications, its outcomes \n",
            "not only cover the whole life but also transfer from one generation to another \n",
            "generation. Most studies conducted before focused on undernutrition in pregnant \n",
            "mothers and children less than 5 years of age, whereas school-age children are \n",
            "often omitted from health and nutrition surveys or surveillance. In Northwest \n",
            "Ethiopia, particularly in the study area, the community levels nutritional \n",
            "status of school-age is not well studied and documented. Therefore, this study \n",
            "aimed to assess the prevalence and determinants of the under-nutritional status \n",
            "of school-age children in Gondar Zuria District, Northwest Ethiopia.\n",
            "METHODS: A community-based cross-sectional study design was employed with 364 \n",
            "respondents from January to April 2020. Data entered using Epi Data software \n",
            "version 3.1. Standard deviation scores were obtained by the world health \n",
            "organization Anthro Plus software to determine the nutritional status of \n",
            "children, and further analysis was done by using STATA version 14 software. \n",
            "Adjusted odds ratio with its corresponding 95 % confidence interval was used to \n",
            "declare statistically significant variables.\n",
            "RESULTS: The prevalence of overall under-nutrition was 71.98% (95%, CI: 67%-76%) \n",
            "from which, 43.13% (95%, CI: 38%-48%) were stunted, 40.93% (95%, CI: 35%-46%) \n",
            "were under-weight, and 35.44% (95%, CI: 30%-40%) were wasted. Child age [AOR = \n",
            "0.30, 95% CI (0.13-0.68)], food insecurity [AOR = 2.24, 95% CI (1.03-4.83)], \n",
            "good knowledge of mother/care giver [AOR = 0.40, 95% CI (0.17-0.92)], having \n",
            "larger family size (Tzioumis and Adair, 2014; Wolde et al., 2015; Mohammed \n",
            "et al., 2019) [6-8] [AOR = 2.92, 95% CI (1.29-6.58)], and unprotected drinking \n",
            "water sources [AOR = 2.84, 95% CI (1.00-8.06)] were the predictors of \n",
            "under-nutrition.\n",
            "CONCLUSION: According to the world health organization cut-offs, the prevalence \n",
            "of overall under-nutrition in the study area was very high. Child age, food \n",
            "insecurity, knowledge of mother/caregiver, having a larger family size, and \n",
            "unprotected drinking water sources were the predictors of under-nutrition. The \n",
            "district offices should give attention to the improvement of the food security \n",
            "status of the community, and give priority to the availability and accessibility \n",
            "of drinking water sources, particularly pipe water sources. Special attention to \n",
            "older age groups of children is important to control the prevalence of \n",
            "under-nutrition.\n",
            "\n",
            "© 2022 The Author(s).\n",
            "\n",
            "DOI: 10.1016/j.heliyon.2022.e11235\n",
            "PMCID: PMC9626546\n",
            "PMID: 36339772\n",
            "\n",
            "Conflict of interest statement: The authors declare no conflict of interest.\n",
            "4. J Nutr Sci. 2022 Oct 20;11:e92. doi: 10.1017/jns.2022.86. eCollection 2022.\n",
            "\n",
            "The role of multi-dimensional women's empowerment in agriculture to improve the \n",
            "nutritional status of under-five children in rural cash crop producing, \n",
            "resource-limited settings of Ethiopia.\n",
            "\n",
            "Jisso M(1), Tesfaye T(2), Biadgilign S(3), Tareke AA(4), Zerfu TA(2)(5).\n",
            "\n",
            "Author information:\n",
            "(1)Department of Public Health, College of Medicine and Health Sciences, Hawassa \n",
            "University, Hawassa, Ethiopia.\n",
            "(2)College of Medicine and Health Sciences, Dilla University, Dilla, Ethiopia.\n",
            "(3)Public Health Nutrition Research Consultant, Addis Ababa, Ethiopia.\n",
            "(4)Department of Biomedical Sciences, College of Medicine and Health Sciences, \n",
            "Wollo University, Dessie, Ethiopia.\n",
            "(5)Global Academy of Agriculture and Food Security, Royal (Dick) School of \n",
            "Veterinary Studies, University of Edinburgh (UoE), Edinburgh, UK.\n",
            "\n",
            "Little is known about the relation between the women empowerment in agriculture \n",
            "index, and health and nutrition outcomes among under-five children in Ethiopia. \n",
            "The study's objective was to examine women's empowerment in agriculture and its \n",
            "association with the nutritional status of children (6-59 months) in rural, cash \n",
            "crop producing, and resource-limited settings of Ethiopia. A community-based \n",
            "cross-sectional study was conducted employing 422 households; having women of \n",
            "reproductive age group and children under-five. Stratified simple random \n",
            "sampling was used to identify households; a simple random sampling was used to \n",
            "select villages and households. Women empowerment in agriculture was measured by \n",
            "the abbreviated women empowerment in agriculture index. Even if the overall \n",
            "multi-dimensional five domains of empowerment index (5DE) was not a significant \n",
            "predictor of nutritional status in children (P > 0⋅05), sub-indicators had a \n",
            "pivotal role in child nutritional status. Disempowerment in decisions about \n",
            "input into production [AOR = 8⋅85], empowerment on control of income [AOR = \n",
            "0⋅35] and availability of livestock [AOR = 0⋅38] were predictors of child \n",
            "stunting, whereas women's disempowerment in production decisions seems \n",
            "beneficiary for wasting, disempowered women have 84 % less likely to have wasted \n",
            "child than empowered women [AOR = 0⋅16]. Dietary and agricultural diversity \n",
            "[particularly livestock farming], and women's empowerment in production \n",
            "decisions were predictors of better nutritional outcomes in children. Therefore, \n",
            "a concentrated effort is needed towards strengthening the multi-dimensional \n",
            "empowerment of women in agriculture emphasising women's input into production \n",
            "decisions, dietary and agricultural diversification, mainly livestock farming.\n",
            "\n",
            "© The Author(s) 2022.\n",
            "\n",
            "DOI: 10.1017/jns.2022.86\n",
            "PMCID: PMC9607879\n",
            "PMID: 36337985 [Indexed for MEDLINE]\n",
            "5. Public Health Nutr. 2022 Nov;25(11):3158-3171. doi: 10.1017/S1368980022002075.\n",
            " Epub 2022 Sep 16.\n",
            "\n",
            "Drivers and distribution of the household-level double burden of malnutrition in \n",
            "Bangladesh: analysis of mother-child dyads from a national household survey.\n",
            "\n",
            "Sarker AR(1), Hossain Z(1), Morton A(2).\n",
            "\n",
            "Author information:\n",
            "(1)Population Studies Division, Bangladesh Institute of Development Studies \n",
            "(BIDS), Room 302, E-17, Sher e Bangla Nagar, Agargaon, Dhaka1207, Bangladesh.\n",
            "(2)Department of Management Science, University of Strathclyde, Glasgow, UK.\n",
            "\n",
            "OBJECTIVE: The double burden of malnutrition (DBM) has become an emerging public \n",
            "health issue in many low- and middle-income countries. This study aims to \n",
            "provide important evidence for the prevalence of different types of DBM at the \n",
            "national and subnational levels in Bangladesh.\n",
            "DESIGN: The study utilised data from the latest Bangladesh Demographic and \n",
            "Health Survey (BDHS) 2017-2018. Multivariable logistic regression was performed \n",
            "to identify the sociodemographic factors associated with DBM.\n",
            "SETTING: Nationally representative cross-sectional survey.\n",
            "PARTICIPANTS: 8697 mothers aged 15 to 49 years with <5 children.\n",
            "RESULTS: The overall prevalence of the DBM was approximately 21 %, where the \n",
            "prevalence of overweight mother (OWM) & stunted child/wasted child/underweight \n",
            "child (SC/WC/UWC) and underweight mother (UWM) & overweight child (OWC) was \n",
            "13·35 % and 7·69 %, respectively, with a higher prevalence among urban \n",
            "households (OWM & SC/WC/UWC = 14·22 %; UWM & OWC = 10·58 %) in Bangladesh. High \n",
            "inequality was observed among UWM & OWC dyads, concentration index (CI) = \n",
            "-0·2998, while low level of inequality of DBM were observed for OWM & SC (CI = \n",
            "0·0153), OWM & WC (CI = 0·1165) and OWM & UWC (CI = 0·0135) dyads. We observed \n",
            "that the age and educational status of the mother, number of children, fathers' \n",
            "occupation, size and wealth index of the household, and administrative division \n",
            "were significantly associated with all types of DBM.\n",
            "CONCLUSIONS: Health policymakers, concerned authorities and various stakeholders \n",
            "should stress the prevalence of DBM issues and take necessary actions aimed at \n",
            "identifying and addressing the DBM in Bangladesh.\n",
            "\n",
            "DOI: 10.1017/S1368980022002075\n",
            "PMCID: PMC9991823\n",
            "PMID: 36111605 [Indexed for MEDLINE]\n",
            "6. Eur J Clin Nutr. 2021 Feb;75(2):385-391. doi: 10.1038/s41430-020-00726-z. Epub\n",
            " 2020 Sep 2.\n",
            "\n",
            "Patterns and determinants of the double burden of malnutrition at the household \n",
            "level in South and Southeast Asia.\n",
            "\n",
            "Biswas T(1)(2), Townsend N(3), Magalhaes RJS(4)(5), Hasan M(6)(7), Mamun \n",
            "A(6)(7).\n",
            "\n",
            "Author information:\n",
            "(1)Institute for Social Science Research, University of Queensland, 80 Meiers \n",
            "Road, Indooroopilly, QLD, 4068, Australia. t.biswas@uqconnect.edu.au.\n",
            "(2)ARC Centre of Excellence for Children and Families over the Life Course, The \n",
            "University of Queensland, Indooroopilly, QLD, Australia. \n",
            "t.biswas@uqconnect.edu.au.\n",
            "(3)Department for Health, University of Bath, Bath, BA2 7AY, UK.\n",
            "(4)UQ Spatial Epidemiology Laboratory, School of Veterinary Science, The \n",
            "University of Queensland, Gatton, QLD, Australia.\n",
            "(5)Children's Health and Environment Program, Child Health Research Centre, The \n",
            "University of Queensland, Brisbane, QLD, Australia.\n",
            "(6)Institute for Social Science Research, University of Queensland, 80 Meiers \n",
            "Road, Indooroopilly, QLD, 4068, Australia.\n",
            "(7)ARC Centre of Excellence for Children and Families over the Life Course, The \n",
            "University of Queensland, Indooroopilly, QLD, Australia.\n",
            "\n",
            "OBJECTIVES: Many developing countries currently face a double burden of \n",
            "malnutrition (DBM) at the household level, defined by the World Health \n",
            "Organization, as when a mother may be overweight or anemic, and a child or \n",
            "grandparent is underweight, in the same household. For the present study, we \n",
            "defined it as the coexistence of overweight or obesity in the mother, and at \n",
            "least one child under the age of 5 undernourished, within the same household. \n",
            "Although underweight has long been considered a major issue in South and \n",
            "Southeast Asia, overweight and obesity have also been identified as a growing \n",
            "problem. The main aim of this study was to assess the DBM at the household level \n",
            "and its major determinants in South and Southeast Asia.\n",
            "METHODS: We used population-representative cross-sectional data from the \n",
            "Demographic and Health Survey, conducted between 2007 and 2017, for eight South \n",
            "and Southeast Asian countries: Bangladesh, India, Nepal, Pakistan, Myanmar, \n",
            "Timor, Maldives, and Cambodia. Multivariate logistic regression was performed to \n",
            "identify the sociodemographic factors associated with DBM.\n",
            "RESULTS: A total of 798,961 households were included in this study. The pooled \n",
            "prevalence of overweight or obesity for the mother and stunted child was 10.0% \n",
            "(95% CI: 8.0.0-12.0), for OBM and wasted child, it was 7.0% (95% confidence \n",
            "interval (CI): 6.0-8.0), and for overweight or obese mother (OBM) and \n",
            "underweight child, it was 7.0% (95% CI: 6.0-8.0). The prevalence of any of these \n",
            "DBM coexistences was 12.0% (95% CI: 10.0-13.0) in all households. Statistically \n",
            "significant positive associations (p < 0.05) were found for each of these \n",
            "coexistences, and a higher age of the mother, mothers with a lower education, \n",
            "the richest household quintile, and households with more than four members.\n",
            "CONCLUSION: It is imperative that \"double duty\" action policies are developed \n",
            "that tackle the DBM, rather than targeting undernutrition or overnutrition \n",
            "separately. The findings from this study suggest that the promotion of education \n",
            "for women may aid in tackling the double burden on a household level.\n",
            "\n",
            "DOI: 10.1038/s41430-020-00726-z\n",
            "PMID: 32879448 [Indexed for MEDLINE]\n",
            "7. Pan Afr Med J. 2019 Aug 30;33:330. doi: 10.11604/pamj.2019.33.330.18808. \n",
            "eCollection 2019.\n",
            "\n",
            "Assessment of wasting and associated factors among under five children of Wukro \n",
            "town, Tigray regional, North Ethiopia: a cross sectional study.\n",
            "\n",
            "Gebru TT(1), Abady GG(1), Teklu FG(2), Tesfamichael YA(1), Bitow MT(3), Tekola \n",
            "KB(2), Weldemariam MG(4), Gebreslassie GW(4), Gebremedhin HT(5), Mezgebo HM(5), \n",
            "Gebremeskel SG(4), Goytom MH(1).\n",
            "\n",
            "Author information:\n",
            "(1)Department of Nursing, College of Medicine and Health Sciences, Adigrat \n",
            "University, Adigrat, Tigray, Ethiopia.\n",
            "(2)Department of Public Health, College of Medicine and Health Sciences, Adigrat \n",
            "University, Adigrat, Tigray, Ethiopia.\n",
            "(3)Department of Biomedical sciences, College of medicine and Health Sciences, \n",
            "Adigrat University, Adigrat-Tigray, Ethiopia.\n",
            "(4)Department of Midwifery, College of Medicine and Health Sciences, Adigrat \n",
            "University, Adigrat-Tigray, Ethiopia.\n",
            "(5)Department of Psychiatry, College of Medicine and Health science, Adigrat \n",
            "University, Adigrat, Tigray, Ethiopia.\n",
            "\n",
            "INTRODUCTION: Globally, 50 million children under 5 were wasted; of which 16 \n",
            "million were severely wasted. A severely wasted child is at a nine times higher \n",
            "risk of dying. To prevent this problem, it is necessary to determine the \n",
            "magnitude and factors associated with childhood wasting. In Ethiopia \n",
            "specifically Wukro town, Tigray regional state there is no clear information \n",
            "regarding under five wasting. Therefore, the study assessed the prevalence and \n",
            "associated factors of wasting among under five children in Wukro town, North \n",
            "Ethiopia. Objective: to assess the prevalence of wasting and associated factors \n",
            "among under five children of Wukro town, Tigray, North Ethiopia, 2017/2018.\n",
            "METHODS: Community based cross-sectional study design with a single population \n",
            "proportion formula was used with a total sample size of 400 children. Wukro town \n",
            "has three kebele, two kebelle were included in the study through simple random \n",
            "sampling method. There was proportional allocation of subjects to each kebelle \n",
            "and final study subject was selected using systematic method. In case there were \n",
            "more than one child in the household one child was selected randomly. The data \n",
            "were collected by face to face interview and measuring of weight and height \n",
            "after the instrument was pre-tested. The anthropometric results were entered in \n",
            "to Emergency nutritional assessment (ENA) to calculate Z-Score. The collected \n",
            "data and result of Z-score were entered in to Statistical package for social \n",
            "science (SPSS) version 20. Finally, results were presented in texts, graphs and \n",
            "tables.\n",
            "RESULTS: A total of 394 under five children were participated in this study, \n",
            "which gave a response rate of 98.5%. The respondents were females 222 (56.3%) \n",
            "and 106(26.95%) were in the age group of 12-23 month. The overall prevalence of \n",
            "wasting was 28 (7.2%). Out of this 14 (3.6%) were wasted and 14 (3.6%) were \n",
            "severely wasted. Under five children those, whose family does not live together \n",
            "were 3.086 times more likely to be wasted compared to under five children those, \n",
            "whose family live together (P=.038, OR=3.086, & 95% CI= (1.061, 8.970). Under \n",
            "five children those, whose mother did not taken family planning were 2.530 times \n",
            "more likely to be wasted compared to under five children those, whose mother \n",
            "take family planning (P=.038, OR=2.530, & 95% CI= (1.054, 6.074)).\n",
            "CONCLUSION: Significant numbers of mothers were not taken extra food during \n",
            "pregnancy and lactation. There was significant prevalence of wasting of under \n",
            "five children in the study area. Living condition of family and usage of family \n",
            "planning were associated with increased risk of wasting.\n",
            "\n",
            "© Tesfay Tsegay Gebru et al.\n",
            "\n",
            "DOI: 10.11604/pamj.2019.33.330.18808\n",
            "PMCID: PMC6815479\n",
            "PMID: 31692697 [Indexed for MEDLINE]\n",
            "\n",
            "Conflict of interest statement: The authors declare no competing interests.\n",
            "8. Public Health Nutr. 2019 Jun;22(8):1425-1432. doi: 10.1017/S1368980018003580. \n",
            "Epub 2019 Jan 7.\n",
            "\n",
            "Prevalence and sociodemographic determinants of household-level double burden of \n",
            "malnutrition in Bangladesh.\n",
            "\n",
            "Das S(1), Fahim SM(1), Islam MS(2), Biswas T(3), Mahfuz M(1), Ahmed T(1).\n",
            "\n",
            "Author information:\n",
            "(1)1Nutrition and Clinical Services Division,International Centre for Diarrhoeal \n",
            "Disease Research,Bangladesh (icddr,b),68 Shaheed Tajudddin Ahmed \n",
            "Sarani,Mohakhali,Dhaka 1212,Bangladesh.\n",
            "(2)2Department of Statistics,University of Rajshahi,Rajshahi,Bangladesh.\n",
            "(3)3Institute for Social Science Research,University of \n",
            "Queensland,Brisbane,Australia.\n",
            "\n",
            "OBJECTIVE: To investigate the prevalence and sociodemographic determinants of \n",
            "household-level mother-child double burden (MCDB) of malnutrition in Bangladesh.\n",
            "DESIGN: The analysis was done using Bangladesh Demographic and Health Survey \n",
            "2014 data. Multivariable logistic regression identified the sociodemographic \n",
            "factors associated with double-burden households.\n",
            "SETTING: Nationally representative cross-sectional survey.ParticipantsA total of \n",
            "5951 households were included in the analysis.\n",
            "RESULTS: A coexistence of overweight or obese mother and underweight or stunted \n",
            "or wasted child (OWOBM/USWC) was found in 6·3 % households. The prevalence of \n",
            "overweight or obese mother and underweight child (OWOBM/UWC) was 3·8 %, of \n",
            "overweight or obese mother and stunted child (OWOBM/STC) was 4·7 %, and of \n",
            "overweight or obese mother and wasted child (OWOBM/WSC) was 1·7 %. Mother's age \n",
            "21-25 years at first birth, middle wealth index group, having two or three \n",
            "children and having four or more children showed statistically significant \n",
            "(P&lt;0·05) associations with OWOBM/UWC. Households with mother's age 21-25 \n",
            "years at first birth, middle wealth index group, no exposure to information \n",
            "media, having two or three children and having four or more children had higher \n",
            "odds of OWOBM/STC and OWOBM/USWC which were statistically significant \n",
            "(P&lt;0·05). Delivery of child through caesarean section was significantly \n",
            "associated with OWOBM/USWC (P&lt;0·05).\n",
            "CONCLUSIONS: Although the prevalence of MCDB of malnutrition in Bangladesh is \n",
            "low, prevention programmes must consider the nutrition concerns of the entire \n",
            "household to prevent future risks. Such programmes also need to be tagged with \n",
            "family planning and increasing awareness through social and behaviour change \n",
            "counselling and exposure to information media.\n",
            "\n",
            "DOI: 10.1017/S1368980018003580\n",
            "PMCID: PMC10260912\n",
            "PMID: 30612592 [Indexed for MEDLINE]\n",
            "9. Front Nutr. 2018 Jan 22;4:72. doi: 10.3389/fnut.2017.00072. eCollection 2017.\n",
            "\n",
            "Household Food Insecurity along an Agro-Ecological Gradient Influences \n",
            "Children's Nutritional Status in South Africa.\n",
            "\n",
            "Chakona G(1), Shackleton CM(1).\n",
            "\n",
            "Author information:\n",
            "(1)Department of Environmental Science, Rhodes University, Grahamstown, South \n",
            "Africa.\n",
            "\n",
            "The burden of food insecurity and malnutrition is a severe problem experienced \n",
            "by many poor households and children under the age of five are at high risk. The \n",
            "objective of the study was to examine household food insecurity, dietary \n",
            "diversity, and child nutritional status in relation to local context which \n",
            "influences access to and ability to grow food in South Africa and explore the \n",
            "links and associations between these and household socio-economic status. Using \n",
            "a 48-h dietary recall method, we interviewed 554 women from randomly selected \n",
            "households along a rural-urban continuum in three towns situated along an \n",
            "agro-ecological gradient. The Household Dietary Diversity Scores (HDDS) and the \n",
            "Household Food Insecurity Access Scale (HFIAS) tools were used to measure \n",
            "household dietary diversity and food insecurity, respectively. Anthropometric \n",
            "measurements with 216 children (2-5 years) from the sampled households were \n",
            "conducted using height-for-age and mid-upper arm circumference (MUAC) as \n",
            "indicators of stunting and wasting, respectively. The key findings were that \n",
            "mean HDDS declined with decreasing agro-ecological potential from the wettest \n",
            "site (8.44 ± 1.72) to the other two drier sites (7.83 ± 1.59 and 7.76 ± 1.63). \n",
            "The mean HFIAS followed the opposite trend. Stunted growth was the dominant form \n",
            "of malnutrition detected in 35% of children and 18% of children were wasted. \n",
            "Child wasting was greatest at the site with lowest agro-ecological potential. \n",
            "Children from households with low HDDS had large MUAC which showed an inverse \n",
            "association among HDDS and obesity. Areas with agro-ecological potential had \n",
            "lower prevalence of food insecurity and wasting in children. Agro-ecological \n",
            "potential has significant influence on children's nutritional status, which is \n",
            "also related to household food security and socio-economic status. Dependence on \n",
            "food purchasing and any limitations in households' income, access to land and \n",
            "food, can result in different forms of malnutrition in children. Responses to \n",
            "address malnutrition in South Africa need to be prioritized and move beyond \n",
            "relying on food security and nutritional-specific interventions, but rather on \n",
            "nutrition-specific and sensitive programs and approaches; and building an \n",
            "enabling environment. Land availability, agriculture (including climate-smart \n",
            "agriculture especially in drier areas), and wild foods usage should be promoted.\n",
            "\n",
            "DOI: 10.3389/fnut.2017.00072\n",
            "PMCID: PMC5786884\n",
            "PMID: 29404332\n",
            "10. PLoS One. 2016 Mar 10;11(3):e0151358. doi: 10.1371/journal.pone.0151358. \n",
            "eCollection 2016.\n",
            "\n",
            "Supply- and Demand-Side Factors Influencing Utilization of Infant and Young \n",
            "Child Feeding Counselling Services in Viet Nam.\n",
            "\n",
            "Nguyen PH(1), Kim SS(1), Nguyen TT(2), Tran LM(2), Hajeebhoy N(2), Frongillo \n",
            "EA(3), Ruel MT(1), Rawat R(1), Menon P(1).\n",
            "\n",
            "Author information:\n",
            "(1)Poverty, Health, and Nutrition Division, International Food Policy Research \n",
            "Institute, Washington, DC, United States of America.\n",
            "(2)FHI 360, Hanoi, Viet Nam.\n",
            "(3)Department of Health Promotion, Education, and Behavior, University of South \n",
            "Carolina, Columbia, SC, United States of America.\n",
            "\n",
            "Adequate utilization of services is critical to maximize the impact of \n",
            "counselling on infant and young child feeding (IYCF), but little is known about \n",
            "factors affecting utilization. Our study examined supply- and demand-side \n",
            "factors associated with the utilization of IYCF counselling services in Viet \n",
            "Nam. We used survey data from mothers with children <2y (n = 1,008) and health \n",
            "staff (n = 60) from the evaluation of a program that embedded IYCF counseling \n",
            "into the existing government health system. The frequency of never users, \n",
            "one-time users, repeat users, and achievers of the recommended minimum number of \n",
            "visits at health facilities were 45.1%, 13.0%, 28.4% and 13.5%, respectively. \n",
            "Poisson regression showed that demand-generation strategies, especially \n",
            "invitation cards, were the key factors determining one-time use (Prevalence \n",
            "ratio, PR 3.0, 95% CI: 2.2-4.2), repeated use (PR 3.2, 95% CI: 2.4-4.2), and \n",
            "achievement of minimum visits (PR 5.5, 95% CI: 3.6-8.4). Higher maternal \n",
            "education was associated with higher utilization both for one-time and repeated \n",
            "use. Being a farmer, belonging to an ethnic minority, and having a wasted child \n",
            "were associated with greater likelihood of achieving the minimum recommended \n",
            "number of visits, whereas child stunting or illness were not. Distance to health \n",
            "center was a barrier to repeated visits. Among supply-side factors, good \n",
            "counselling skills (PR: 1.3-1.8) was the most important factor associated with \n",
            "any service use, whereas longer employment duration and greater work pressure of \n",
            "health center staff were associated with lower utilization. Population \n",
            "attributable risk estimations showed that an additional 25% of the population \n",
            "would have achieved the minimum number of visits if exposed to three \n",
            "demand-generation strategies, and further increased to 49% if the health staff \n",
            "had good counseling skills and low work pressure. Our study provides evidence \n",
            "that demand-generation strategies are essential to increase utilization of \n",
            "facility-based IYCF counselling services in Viet Nam, and may be relevant for \n",
            "increasing and sustaining use of nutrition services in similar contexts.\n",
            "\n",
            "DOI: 10.1371/journal.pone.0151358\n",
            "PMCID: PMC4786102\n",
            "PMID: 26962856 [Indexed for MEDLINE]\n",
            "\n",
            "Conflict of interest statement: Competing Interests: The authors have declared \n",
            "that no competing interests exist.\n",
            "11. BMC Public Health. 2014 Oct 31;14:1124. doi: 10.1186/1471-2458-14-1124.\n",
            "\n",
            "The double burden household in sub-Saharan Africa: maternal overweight and \n",
            "obesity and childhood undernutrition from the year 2000: results from World \n",
            "Health Organization Data (WHO) and Demographic Health Surveys (DHS).\n",
            "\n",
            "Wojcicki JM(1).\n",
            "\n",
            "Author information:\n",
            "(1)Department of Pediatrics, University of California, 500 Parnassus Avenue \n",
            "MU4E, San Francisco, CA 94134-0136, USA. wojcickij@peds.ucsf.edu.\n",
            "\n",
            "BACKGROUND: Previous studies have characterized an increasing trend of double \n",
            "burden households, or households with individuals experiencing both \n",
            "undernutrition and obesity, in countries undergoing a nutrition transition. \n",
            "Although most prior studies indicate the prevalence of double burden households \n",
            "is highest in middle-income countries, there is some support for an increase in \n",
            "double burden households in sub-Saharan African countries as well.\n",
            "METHOD: Using data from the Demographic Health Surveys (DHS) and the World \n",
            "Health Organization (WHO), the prevalence of double burden households in \n",
            "sub-Saharan African countries was calculated and the associations between \n",
            "prevalence of overweight/obese adults and underweight, stunted and wasted \n",
            "children were evaluated at the country and household (DHS only) levels. \n",
            "Restricted analyses and frequencies were calculated using urban-only datasets. \n",
            "Surveys from 28 African countries were available using WHO data and 26 from the \n",
            "DHS surveys. Only surveys that were conducted after 2000 were included in \n",
            "analyses.\n",
            "RESULTS: Using the WHO datasets, there were inverse associations between the \n",
            "prevalence of overweight and obesity in adults and underweight, stunting and \n",
            "wasting in children. Correspondingly, there were positive associations between \n",
            "adult underweight and child underweight, stunting and wasting. These \n",
            "associations were not significant in a smaller sample size using urban-only \n",
            "surveys. The prevalence of double burden households in DHS datasets was low: \n",
            "under 5 percent for obese mothers and underweight, stunted or wasted child pairs \n",
            "with a slightly higher percentage for overweight mothers and children with \n",
            "undernutrition. Restricting the analysis to urban only populations did not \n",
            "increase the frequencies of double burden households significantly.\n",
            "CONCLUSION: There was a low prevalence of double burden households in recent \n",
            "data from sub-Saharan Africa. Countries that have a high prevalence of child \n",
            "undernutrition correspondingly have a high prevalence of adult underweight and \n",
            "low prevalence of adult overweight and obesity.\n",
            "\n",
            "DOI: 10.1186/1471-2458-14-1124\n",
            "PMCID: PMC4233103\n",
            "PMID: 25361562 [Indexed for MEDLINE]\n",
            "12. Pediatr Int. 2008 Aug;50(4):557-62. doi: 10.1111/j.1442-200X.2008.02707.x.\n",
            "\n",
            "Hypercholesterolemia in Thai primary school children: relation to maternal and \n",
            "nutritional factors.\n",
            "\n",
            "Yamborisut U(1), Sungpuag P, Wimonpeerapattana W.\n",
            "\n",
            "Author information:\n",
            "(1)Division of Human Nutrition, Institute of Nutrition, Mahidol University at \n",
            "Salaya, Nakhon Pathorn, Thailand.\n",
            "\n",
            "BACKGROUND: There is evidence to show that atherosclerosis can occur in young \n",
            "children and that elevated total cholesterol and low density lipoprotein \n",
            "cholesterol concentrations are risk factors for atherosclerosis. The aim of the \n",
            "present cross-sectional study was to investigate the influence of maternal and \n",
            "nutritional factors on blood cholesterol in primary school children.\n",
            "METHODS: One hundred and ninety-five population-based mother-child pairs (obese \n",
            "child-overweight mother pairs, n = 60; obese child-normal-weight mother pairs, n \n",
            "= 48; wasted child-overweight mother pairs, n = 37; normal-weight \n",
            "child-normal-weight mother pairs, n = 50), were enrolled in the study. Various \n",
            "anthropometric parameters were measured and serum lipids of subjects were \n",
            "further determined. Biological data and children's eating behavior were obtained \n",
            "from the mothers through interviews.\n",
            "RESULTS: Hypercholesterolemia was found in 64.6-65% of obese children, 24.3% of \n",
            "wasted children and in 56% of the normal-weight children; whereas the proportion \n",
            "of children in all groups who had normal blood cholesterol levels was in the \n",
            "lower range. Multivariate logistic regression indicated that mother's serum \n",
            "cholesterol (odds ratio [OR], 2.41; 95% confidence interval [CI]: 1.12-4.78), \n",
            "child obesity defined by weight-for-height Z-score > +2SD (OR, 2.56; 95%CI: \n",
            "1.33-4.98), and child's energy intake >/=75th percentile (OR, 2.59; 95%CI: \n",
            "1.01-6.66) were the significant factors associated with hypercholesterolemia in \n",
            "children.\n",
            "CONCLUSION: Hypercholesterolemia in school children is associated with familial \n",
            "factor, bodyweight and nutrient intake. Elevated blood cholesterol was also \n",
            "found in some of the normal-weight and wasted children. Effective family-based \n",
            "intervention programs are urgently needed to modify risk factors predisposing to \n",
            "coronary heart disease.\n",
            "\n",
            "DOI: 10.1111/j.1442-200X.2008.02707.x\n",
            "PMID: 18937756 [Indexed for MEDLINE]\n",
            "13. J Med Assoc Thai. 2006 Jul;89(7):1012-23.\n",
            "\n",
            "Factors associated with dual form of malnutrition in school children in Nakhon \n",
            "Pathom and Bangkok.\n",
            "\n",
            "Yamborisut U(1), Kosulwat V, Chittchang U, Wimonpeerapattana W, Suthutvoravut U.\n",
            "\n",
            "Author information:\n",
            "(1)Division of Human Nutrition, Institute of Nutrition, Mahidol University, \n",
            "Nakhon Pathom, Thailand.\n",
            "\n",
            "OBJECTIVE: The present study examined the influence of family characteristics \n",
            "and maternal feeding practices on eating behaviors, food consumption and \n",
            "nutritional status of children living in 6 districts of Nakhon Pathom province \n",
            "and 3 surrounding districts of Bangkok.\n",
            "MATERIAL AND METHOD: One hundred and ninety nine families were enrolled in the \n",
            "present study. Four specific mother-child pair groups were purposively selected: \n",
            "62 obese child/overweight mother pairs, 49 obese child/ normal weight mother \n",
            "pairs, 37 wasted child/overweight mother pairs, and 51 normal weight \n",
            "child/normal weight mother pairs. Anthropometric measurements were performed on \n",
            "all subjects. Biological data, socioeconomic status, maternal feeding practices, \n",
            "as well as eating and lifestyle behaviors of the children were obtained from \n",
            "mothers and children using structured questionnaires and interviews.\n",
            "RESULT: Most mothers from all groups, 40.8%-62.2%, had a primary education, were \n",
            "non-manual workers, with families containing 4-6 persons per household, and a \n",
            "family income of < or = 20,000 baht per month. Multivariate logistic regression \n",
            "analysis showed that maternal overweight prior to pregnancy (OR11.85, 95%CI \n",
            "2.16-64.99) child's high birth weight (OR 4.53, 95%CI 1.09-18.73) as well as \n",
            "maternal control over the consumption of high caloric food (OR13.07, 95%CI \n",
            "4.08-41.86) and large amounts of food consumed by the children (OR12.58, 95%CI \n",
            "4.30-36.80) were significant factors associated with childhood obesity. Compared \n",
            "to normal weight children, a higher proportion of obese children were not \n",
            "breast-fed and a higher proportion of normal weight mothers controlled the \n",
            "consumption of high caloric food in their obese children. Overweight mothers \n",
            "with wasted children also controlled their children's food intake. Higher \n",
            "proportion of wasted children had a higher snack consumption frequency but lower \n",
            "energy food intake than the normal weight children.\n",
            "CONCLUSION: Understanding the underlying causes of dual form of malnutrition in \n",
            "the households would have implication for policy makers to address and implement \n",
            "a nutrition action plan. It is suggested that a malnutrition, (under and \n",
            "over-nutrition) prevention program must involve strategies within families that \n",
            "focus on providing nutrition education and the powerful guidance to help parents \n",
            "foster appropriate patterns of food choice and eating in their children. \n",
            "Promotion of increased physical activity in children is also essential. These \n",
            "strategies are aimed to promote the optimal child's weight and health.\n",
            "\n",
            "PMID: 16881435 [Indexed for MEDLINE]\n",
            "14. East Mediterr Health J. 2003 Sep-Nov;9(5-6):1003-18.\n",
            "\n",
            "Adolescent abuse in a community sample in Beni Suef, Egypt: prevalence and risk \n",
            "factors.\n",
            "\n",
            "Afifi ZE(1), El-Lawindi MI, Ahmed SA, Basily WW.\n",
            "\n",
            "Author information:\n",
            "(1)Department of Public Health, Faculty of Medicine, Kasr El-Aini University, \n",
            "Cairo, Egypt.\n",
            "\n",
            "Adolescent abuse was studied in 555 school students (mean age 15.6 +/- 1.5 \n",
            "years) selected by multistage random sampling in Beni Suef in 1998. Each student \n",
            "received a general physical examination and a pre-coded questionnaire to \n",
            "identify determinants of abuse. Prevalence of abuse was 36.6%. Emotional, \n",
            "physical, sexual and combined abuse prevalence was 12.3%, 7.6%, 7.0% and 9.7% \n",
            "respectively. Significant predictors of sexual abuse were hyperactive child, \n",
            "disabled child, disinterested mother, low birth order child or wasted child. For \n",
            "physical abuse, significant predictors were maternal disinterest, maternal \n",
            "education and injuries. Significant predictors of emotional abuse were \n",
            "overcrowding, disease and mistreatment by a teacher. Violent behaviour was \n",
            "reported for more than 20% of the emotionally and the sexually abused.\n",
            "\n",
            "PMID: 16450531 [Indexed for MEDLINE]\n",
            "15. Ann Trop Paediatr. 2004 Mar;24(1):103-6. doi: 10.1179/027249304225013376.\n",
            "\n",
            "Burkitt's lymphoma presenting as obstructive jaundice.\n",
            "\n",
            "Wammanda RD(1), Ali FU, Adama SJ, Idris HW, Abubakar U.\n",
            "\n",
            "Author information:\n",
            "(1)Department of Paediatrics, Ahmadu Bello University Teaching Hospital, Zaria, \n",
            "Nigeria. wammanda@inet-global.com\n",
            "\n",
            "A 12-year-old boy presented with a 5-month history of yellowness of the eyes, \n",
            "progressive painless abdominal swelling and weight loss. Physical examination \n",
            "revealed a grossly wasted child with marked jaundice and non-tender \n",
            "hepatomegaly. Liver function tests and abdominal ultrasound suggested \n",
            "obstructive liver disease. Tissue biopsy at laparotomy showed histological \n",
            "findings consistent with Burkitt's lymphoma. He was commenced on cytotoxic \n",
            "chemotherapy and, after two courses, the jaundice disappeared and he remained \n",
            "well. Although ante-mortem presentation of Burkitt's lymphoma as hepatic disease \n",
            "is rare, this condition should be included in the differential diagnosis of a \n",
            "child with obstructive jaundice.\n",
            "\n",
            "DOI: 10.1179/027249304225013376\n",
            "PMID: 15005975 [Indexed for MEDLINE]\n",
            "16. Newsl Macro Syst Inst Resour Dev Demogr Health Surv. 1994;6(2):4.\n",
            "\n",
            "Fertility and childhood mortality in Niger among the highest in the world.\n",
            "\n",
            "[No authors listed]\n",
            "\n",
            "PIP: A Demographic and Health Survey was conducted in 1992 in Niger among 6503 \n",
            "women aged 15-49 years and 1570 husbands. This brief summary of results \n",
            "indicated that cumulative fertility remained high at 7.4 children per woman. \n",
            "High fertility was explained by early marriage, adolescent childbearing, low \n",
            "contraceptive usage, and desires for a large family. About 50% of women were \n",
            "married by the age of 15 years. Women aged 15-49 years desired 8 children, and \n",
            "husbands desired over 12 children. 1 in 3 children under the age of 5 years was \n",
            "chronically malnourished (stunted), and 1 in 6 was wasted. Child mortality in \n",
            "rural areas was 347/1000, and child mortality among illiterate mothers is \n",
            "334/1000. Infant mortality was 123/1000. Mothers with a primary education had a \n",
            "child mortality rate of 208/1000. Only 17% of children aged 12-23 months had \n",
            "been immunized. Maternal mortality occurred among 1 in 3 reproductive age women. \n",
            "Only 30% of births were to women with prenatal care, and only 15% of women \n",
            "received assistance at delivery from a health professional.\n",
            "\n",
            "PMID: 12288150 [Indexed for MEDLINE]\n",
            "17. Trans R Soc Trop Med Hyg. 1977;71(3):210-6. doi:\n",
            "10.1016/0035-9203(77)90009-8.\n",
            "\n",
            "Underweight, stunting and wasting in black and white South African \n",
            "schoolchildren: malnutrition or adaptation?\n",
            "\n",
            "Richardson BD.\n",
            "\n",
            "Prevalences of underweight for age in South African schoolchildren rose from \n",
            "seven years to reach high levels during puberty. In Black children at the height \n",
            "of the pubertal growth spurt, half to three-quarters were underweight for age \n",
            "and hence classifiable as \"malnourished\". However, percentages fell rapidly to \n",
            "one-fifth or less at 17 years. High prevalences of stunting were common in \n",
            "Blacks. Wasting occurred in similar proportions of urban Black compared with \n",
            "White children, i.e., the large majority of both Blacks and Whites were normally \n",
            "proportioned; younger children were more wasted than older pupils. Factors \n",
            "additional to nutrition appear to share in the regulation of growth. In Whites \n",
            "on adequate diets, there were (i) similar patterns, but smaller rises in \n",
            "underweight prevalences over the growth spurt, also (ii) small but not \n",
            "insignificant prevalences of stunting: (iii) closely similar \"normal\" patterns \n",
            "of weight for height occurred in Whites as well as Blacks, and (iv) in Blacks \n",
            "the sharp fall in prevalences of underweight and wasting, after the rapid growth \n",
            "phase, occurred without any dietary intervention. A plea is made to use not only \n",
            "weight, but height, particularly relative to weight, at all ages, in assessing \n",
            "nutritional status and \"at risk\" groups. The stunted and wasted child is likely \n",
            "to be at greater risk than a similarly stunted but normally proportioned or \n",
            "overweight child--both could be underweight for age. Further definitive studies \n",
            "are required.\n",
            "\n",
            "DOI: 10.1016/0035-9203(77)90009-8\n",
            "PMID: 888168 [Indexed for MEDLINE]\n"
          ]
        }
      ],
      "source": [
        "with open(\"abstracts_wasted_child.csv\", \"wt\") as abstracts_file:\n",
        "    abstract_writer = csv.writer(abstracts_file)\n",
        "    abstract_writer.writerow(['Journal', 'Title', 'Authors', 'Author_Information', 'Abstract', 'DOI', 'Misc'])\n",
        "    #For each abstract, split into categories and write it to the csv file\n",
        "    for abstract in all_abstracts:\n",
        "        print(abstract)\n",
        "        #To obtain categories, split every double newline.\n",
        "        split_abstract = abstract.split(\"\\n\\n\")\n",
        "        abstract_writer.writerow(split_abstract)"
      ]
    },
    {
      "cell_type": "code",
      "source": [],
      "metadata": {
        "id": "6ZVmGAPX65WX"
      },
      "execution_count": null,
      "outputs": []
    },
    {
      "cell_type": "markdown",
      "metadata": {
        "id": "5HIG849D1fIL"
      },
      "source": [
        "Examining the resulting csv file, we notice that some abstracts are missing pieces of information. Some lack the author information, and some lack the abstract text entirely. We are only interested in abstracts with complete information, we should segregate the incomplete abstracts into a separate file. To do this, we can just include a simple if/else clause and write to two files. The code below should do so, in which the incomplete abstracts will be written to a file called `partial_abstracts.csv`."
      ]
    },
    {
      "cell_type": "code",
      "execution_count": null,
      "metadata": {
        "id": "sz1a4rwV1fIL"
      },
      "outputs": [],
      "source": [
        "with open(\"abstracts.csv\", \"wt\") as abstracts_file, open (\"partial_abstracts.csv\", \"wt\") as partial_abstracts:\n",
        "    # csv writer for full abstracts\n",
        "    abstract_writer = csv.writer(abstracts_file)\n",
        "    abstract_writer.writerow(['Journal', 'Title', 'Authors', 'Author_Information', 'Abstract', 'DOI', 'Misc'])\n",
        "    # csv writer for partial abstracts\n",
        "    partial_abstract_writer = csv.writer(partial_abstracts)\n",
        "    #For each abstract, split into categories and write it to the csv file\n",
        "    for abstract in all_abstracts:\n",
        "        #To obtain categories, split every double newline.\n",
        "        split_abstract = abstract.split(\"\\n\\n\")\n",
        "        if len(split_abstract) > 5:\n",
        "            abstract_writer.writerow(split_abstract)\n",
        "        else:\n",
        "            partial_abstract_writer.writerow(split_abstract)"
      ]
    },
    {
      "cell_type": "markdown",
      "metadata": {
        "id": "xQNbk4vQ1fIL"
      },
      "source": [
        "## Conclusion"
      ]
    },
    {
      "cell_type": "markdown",
      "metadata": {
        "id": "k7kYaVuk1fIM"
      },
      "source": [
        "Here, I have shown you how to use the NCBI E-utilities `esearch` and `efetch` to download abstracts from PubMed, as well as how to write a Python script to batch download all abstracts corresponding to a keyword search.\n",
        "\n",
        "The file `pubmed_extractor.py` in this repository contains the Python script that we wrote above, but will also allow the user to input their desired keyword search. Running the script by typing `python pubmed_extractor.py` into your terminal should prompt you for a keyword to download PubMed abstracts for. The script will then dump your abstracts into `abstracts.csv`."
      ]
    },
    {
      "cell_type": "markdown",
      "metadata": {
        "id": "WKcRCl5y1fIM"
      },
      "source": [
        "### References\n",
        "Sayers E. The E-utilities In-Depth: Parameters, Syntax and More. 2009 May 29. In: Entrez Programming Utilities Help. Bethesda (MD): National Center for Biotechnology Information (US); 2010-.Available from: http://www.ncbi.nlm.nih.gov/books/NBK25499/"
      ]
    }
  ],
  "metadata": {
    "kernelspec": {
      "display_name": "Python 3",
      "language": "python",
      "name": "python3"
    },
    "language_info": {
      "codemirror_mode": {
        "name": "ipython",
        "version": 3
      },
      "file_extension": ".py",
      "mimetype": "text/x-python",
      "name": "python",
      "nbconvert_exporter": "python",
      "pygments_lexer": "ipython3",
      "version": "3.6.4"
    },
    "colab": {
      "provenance": []
    }
  },
  "nbformat": 4,
  "nbformat_minor": 0
}